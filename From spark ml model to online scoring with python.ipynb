{
    "nbformat_minor": 1, 
    "cells": [
        {
            "source": "<table style=\"border: none\" align=\"left\">\n   <tr style=\"border: none\">\n      <th style=\"border: none\"><font face=\"verdana\" size=\"5\" color=\"black\"><b>Predict outdoor equipment purchase with IBM Watson Machine Learning</b></th>\n      <th style=\"border: none\"><img src=\"https://github.com/pmservice/customer-satisfaction-prediction/blob/master/app/static/images/ml_icon_gray.png?raw=true\" alt=\"Watson Machine Learning icon\" height=\"40\" width=\"40\"></th>\n   </tr>\n   <tr style=\"border: none\">\n       <th style=\"border: none\"><img src=\"https://github.com/pmservice/wml-sample-models/blob/master/spark/product-line-prediction/images/products_graphics.png?raw=true\" alt=\"Icon\"> </th>\n   </tr>\n</table>", 
            "cell_type": "markdown", 
            "metadata": {}
        }, 
        {
            "source": "This notebook contains steps and code to get data from the IBM Data Science Experience Community, create a predictive model, and start scoring new data. This notebook introduces commands for getting data and for basic data cleaning and exploration, pipeline creation, model training, model persistance to Watson Machine Learning repository, model deployment, and scoring.\n\nSome familiarity with Python is helpful. This notebook uses Python 2.0 and Apache\u00ae Spark 2.0.\n\nYou will use a publicly available data set, **GoSales Transactions for Naive Bayes Model**, which details anonymous outdoor equipment purchases. Use the details of this data set to predict clients' interests in terms of product line, such as golf accessories, camping equipment, and others.\n\n**Note**: In this notebook we use GOSales data available on [Data Science Experience Community](https://apsportal.ibm.com/exchange-api/v1/entries/8044492073eb964f46597b4be06ff5ea/data?accessKey=9561295fa407698694b1e254d0099600).\n\n## Learning goals\n\nThe learning goals of this notebook are:\n\n-  Load a CSV file into an Apache\u00ae Spark DataFrame.\n-  Explore data.\n-  Prepare data for training and evaluation.\n-  Create an Apache\u00ae Spark machine learning pipeline.\n-  Train and evaluate a model.\n-  Persist a pipeline and model in Watson Machine Learning repository.\n-  Deploy a model for online scoring using Wastson Machine Learning API.\n-  Score sample scoring data using the Watson Machine Learning API.\n-  Explore and visualize prediction result using the plotly package.\n\n\n## Contents\n\nThis notebook contains the following parts:\n\n1.\t[Setup](#setup)\n2.\t[Load and explore data](#load)\n3.\t[Create spark ml model](#model)\n4.\t[Persist model](#persistence)\n5.\t[Predict locally and visualize](#visualization)\n6.\t[Deploy and score in a Cloud](#scoring)\n7.\t[Summary and next steps](#summary)", 
            "cell_type": "markdown", 
            "metadata": {}
        }, 
        {
            "source": "<a id=\"setup\"></a>\n## 1. Setup\n\nBefore you use the sample code in this notebook, you must perform the following setup tasks:\n\n-  Create a [Watson Machine Learning Service](https://console.ng.bluemix.net/catalog/services/ibm-watson-machine-learning/) instance (a free plan is offered). \n-  Upload **GoSales Transactions** data as a data asset in IBM Data Science Experience.\n-  Make sure that you are using a Spark 2.0 kernel.", 
            "cell_type": "markdown", 
            "metadata": {}
        }, 
        {
            "source": "<a id=\"load\"></a>\n## 2. Load and explore data", 
            "cell_type": "markdown", 
            "metadata": {}
        }, 
        {
            "source": "In this section you will load the data as an Apache\u00ae Spark DataFrame and perform a basic exploration.\n\nLoad the data to the Spark DataFrame by using *wget* to upload the data to gpfs and then *read* method. ", 
            "cell_type": "markdown", 
            "metadata": {}
        }, 
        {
            "source": "**Example**: First, you need to install required packages. You can do it by running the following code. Run it only one time.<BR><BR>\n!pip install wget --user <BR>", 
            "cell_type": "markdown", 
            "metadata": {}
        }, 
        {
            "execution_count": 10, 
            "cell_type": "code", 
            "metadata": {}, 
            "outputs": [
                {
                    "output_type": "stream", 
                    "name": "stdout", 
                    "text": "Collecting wget\n  Downloading wget-3.2.zip\nBuilding wheels for collected packages: wget\n  Running setup.py bdist_wheel for wget ... \u001b[?25ldone\n\u001b[?25h  Stored in directory: /gpfs/fs01/user/s4b5-8af1a9682f921a-a614a6ea83ce/.cache/pip/wheels/6d/98/29/61ccc41148f871009126c2e844e26f73eeb25e12cca92228a5\nSuccessfully built wget\nInstalling collected packages: wget\nSuccessfully installed wget-3.2\nGoSales_Tx_NaiveBayes.csv\n"
                }
            ], 
            "source": "!pip install wget \nimport wget\n\nlink_to_data = 'https://apsportal.ibm.com/exchange-api/v1/entries/8044492073eb964f46597b4be06ff5ea/data?accessKey=9561295fa407698694b1e254d0099600'\nfilename = wget.download(link_to_data)\n\nprint filename"
        }, 
        {
            "source": "The csv file GoSales_Tx_NaiveBayes.csv is availble on gpfs now. Load the file to Apache\u00ae Spark DataFrame using code below.", 
            "cell_type": "markdown", 
            "metadata": {}
        }, 
        {
            "execution_count": 11, 
            "cell_type": "code", 
            "metadata": {}, 
            "outputs": [], 
            "source": "spark = SparkSession.builder.getOrCreate()\n\ndf_data = spark.read\\\n  .format('org.apache.spark.sql.execution.datasources.csv.CSVFileFormat')\\\n  .option('header', 'true')\\\n  .option('inferSchema', 'true')\\\n  .load(filename)"
        }, 
        {
            "source": "Explore the loaded data by using the following Apache\u00ae Spark DataFrame methods:\n-  print schema\n-  print top ten records\n-  count all records", 
            "cell_type": "markdown", 
            "metadata": {}
        }, 
        {
            "execution_count": 12, 
            "cell_type": "code", 
            "metadata": {}, 
            "outputs": [
                {
                    "output_type": "stream", 
                    "name": "stdout", 
                    "text": "root\n |-- PRODUCT_LINE: string (nullable = true)\n |-- GENDER: string (nullable = true)\n |-- AGE: integer (nullable = true)\n |-- MARITAL_STATUS: string (nullable = true)\n |-- PROFESSION: string (nullable = true)\n\n"
                }
            ], 
            "source": "df_data.printSchema()"
        }, 
        {
            "source": "As you can see, the data contains five fields. PRODUCT_LINE field is the one we would like to predict (label).", 
            "cell_type": "markdown", 
            "metadata": {}
        }, 
        {
            "execution_count": 35, 
            "cell_type": "code", 
            "metadata": {}, 
            "outputs": [
                {
                    "output_type": "stream", 
                    "name": "stdout", 
                    "text": "+--------------------+------+---+--------------+------------+\n|        PRODUCT_LINE|GENDER|AGE|MARITAL_STATUS|  PROFESSION|\n+--------------------+------+---+--------------+------------+\n|Personal Accessories|     M| 27|        Single|Professional|\n|Personal Accessories|     F| 39|       Married|       Other|\n|Mountaineering Eq...|     F| 39|       Married|       Other|\n|Personal Accessories|     F| 56|   Unspecified| Hospitality|\n|      Golf Equipment|     M| 45|       Married|     Retired|\n|      Golf Equipment|     M| 45|       Married|     Retired|\n|   Camping Equipment|     F| 39|       Married|       Other|\n|   Camping Equipment|     F| 49|       Married|       Other|\n|  Outdoor Protection|     F| 49|       Married|       Other|\n|      Golf Equipment|     M| 47|       Married|     Retired|\n|      Golf Equipment|     M| 47|       Married|     Retired|\n|Mountaineering Eq...|     M| 21|        Single|      Retail|\n|Personal Accessories|     F| 66|       Married|       Other|\n|   Camping Equipment|     F| 35|       Married|Professional|\n|Mountaineering Eq...|     M| 20|        Single|       Sales|\n|Mountaineering Eq...|     M| 20|        Single|       Sales|\n|Mountaineering Eq...|     M| 20|        Single|       Sales|\n|Personal Accessories|     F| 37|        Single|       Other|\n|   Camping Equipment|     M| 42|       Married|       Other|\n|   Camping Equipment|     F| 24|       Married|      Retail|\n+--------------------+------+---+--------------+------------+\nonly showing top 20 rows\n\n"
                }
            ], 
            "source": "df_data.show()"
        }, 
        {
            "execution_count": 14, 
            "cell_type": "code", 
            "metadata": {}, 
            "outputs": [
                {
                    "output_type": "stream", 
                    "name": "stdout", 
                    "text": "Number of records: 60252\n"
                }
            ], 
            "source": "print \"Number of records: \" + str(df_data.count())"
        }, 
        {
            "source": "As you can see, the data set contains 60252 records.", 
            "cell_type": "markdown", 
            "metadata": {}
        }, 
        {
            "source": "<a id=\"model\"></a>\n## 3. Create an Apache\u00ae Spark machine learning model\n\nIn this section you will learn how to prepare data, create an Apache\u00ae Spark machine learning pipeline, and train a model.", 
            "cell_type": "markdown", 
            "metadata": {}
        }, 
        {
            "source": "### 3.1: Prepare data\n\nIn this subsection you will split your data into: train, test and predict datasets.", 
            "cell_type": "markdown", 
            "metadata": {}
        }, 
        {
            "execution_count": 52, 
            "cell_type": "code", 
            "metadata": {}, 
            "outputs": [
                {
                    "output_type": "stream", 
                    "name": "stdout", 
                    "text": "Number of training records: 48176\nNumber of testing records : 10860\nNumber of prediction records : 1216\n"
                }
            ], 
            "source": "splitted_data = df_data.randomSplit([0.8, 0.18, 0.02], 24)\ntrain_data = splitted_data[0]\ntest_data = splitted_data[1]\npredict_data = splitted_data[2]\n\nprint \"Number of training records: \" + str(train_data.count())\nprint \"Number of testing records : \" + str(test_data.count())\nprint \"Number of prediction records : \" + str(predict_data.count())"
        }, 
        {
            "source": "As you can see our data has been successfully split into three datasets: \n\n-  The train data set, which is the largest group, is used for training.\n-  The test data set will be used for model evaluation and is used to test the assumptions of the model.\n-  The predict data set will be used for prediction.", 
            "cell_type": "markdown", 
            "metadata": {}
        }, 
        {
            "execution_count": 53, 
            "cell_type": "code", 
            "metadata": {}, 
            "outputs": [
                {
                    "output_type": "stream", 
                    "name": "stdout", 
                    "text": "Number of prediction records with Indexing : 60252\nroot\n |-- PRODUCT_LINE: string (nullable = true)\n |-- GENDER: string (nullable = true)\n |-- AGE: integer (nullable = true)\n |-- MARITAL_STATUS: string (nullable = true)\n |-- PROFESSION: string (nullable = true)\n |-- GENDER_index: double (nullable = true)\n |-- PRODUCT_LINE_index: double (nullable = true)\n |-- MARITAL_STATUS_index: double (nullable = true)\n |-- PROFESSION_index: double (nullable = true)\n |-- AGE_index: double (nullable = true)\n\nNone\n"
                }
            ], 
            "source": "indexers = [StringIndexer(inputCol=column, outputCol=column+\"_index\").fit(df_data) for column in list(set(df_data.columns)-set(['date'])) ]\n\npipeline2 = Pipeline(stages=indexers)\ndf_r = pipeline2.fit(df_data).transform(df_data)\nprint \"Number of prediction records with Indexing : \" + str(df_r.count())\nprint df_r.printSchema()"
        }, 
        {
            "execution_count": 50, 
            "cell_type": "code", 
            "metadata": {}, 
            "outputs": [], 
            "source": "# The code was removed by DSX for sharing."
        }, 
        {
            "execution_count": 49, 
            "cell_type": "code", 
            "metadata": {}, 
            "outputs": [], 
            "source": "from ingest.Connectors import Connectors\n\nS3saveoptions = {\n      Connectors.BluemixCloudObjectStorage.URL                      : \"https://s3-api.us-geo.objectstorage.service.networklayer.com\",\n      Connectors.BluemixCloudObjectStorage.IAM_URL                  : \"https://iam.ng.bluemix.net/oidc/token\",\n      Connectors.BluemixCloudObjectStorage.RESOURCE_INSTANCE_ID     : \"iam-ServiceId-58078be1-3843-4dff-bda3-dcef403bb10f\",\n      Connectors.BluemixCloudObjectStorage.API_KEY                  : \"QYJcDPVVfRe8GR_5ES5iqcrNu2a_duOT2CeSov9nWEMR\",\n      Connectors.BluemixCloudObjectStorage.TARGET_BUCKET            : \"projectibmib44b9b30d9304b75bfe3d588ecd1b28f\",\n      Connectors.BluemixCloudObjectStorage.TARGET_FILE_NAME         : \"GoSalesTraining.csv\",\n      Connectors.BluemixCloudObjectStorage.TARGET_WRITE_MODE        : \"write\",\n      Connectors.BluemixCloudObjectStorage.TARGET_FILE_FORMAT       : \"csv\",\n      Connectors.BluemixCloudObjectStorage.TARGET_FIRST_LINE_HEADER : \"true\"}\n\nNewS3DF = df_r.write.format('com.ibm.spark.discover').options(**S3saveoptions).save()"
        }, 
        {
            "execution_count": 51, 
            "cell_type": "code", 
            "metadata": {}, 
            "outputs": [
                {
                    "output_type": "stream", 
                    "name": "stdout", 
                    "text": "+--------------------+------+---+--------------+------------+------------+------------------+--------------------+----------------+---------+\n|        PRODUCT_LINE|GENDER|AGE|MARITAL_STATUS|  PROFESSION|GENDER_index|PRODUCT_LINE_index|MARITAL_STATUS_index|PROFESSION_index|AGE_index|\n+--------------------+------+---+--------------+------------+------------+------------------+--------------------+----------------+---------+\n|Personal Accessories|     M| 27|        Single|Professional|         0.0|               1.0|                 1.0|             1.0|      1.0|\n|Personal Accessories|     F| 39|       Married|       Other|         1.0|               1.0|                 0.0|             0.0|      7.0|\n|Mountaineering Eq...|     F| 39|       Married|       Other|         1.0|               2.0|                 0.0|             0.0|      7.0|\n|Personal Accessories|     F| 56|   Unspecified| Hospitality|         1.0|               1.0|                 2.0|             5.0|     38.0|\n|      Golf Equipment|     M| 45|       Married|     Retired|         0.0|               3.0|                 0.0|             8.0|     29.0|\n|      Golf Equipment|     M| 45|       Married|     Retired|         0.0|               3.0|                 0.0|             8.0|     29.0|\n|   Camping Equipment|     F| 39|       Married|       Other|         1.0|               0.0|                 0.0|             0.0|      7.0|\n|   Camping Equipment|     F| 49|       Married|       Other|         1.0|               0.0|                 0.0|             0.0|     27.0|\n|  Outdoor Protection|     F| 49|       Married|       Other|         1.0|               4.0|                 0.0|             0.0|     27.0|\n|      Golf Equipment|     M| 47|       Married|     Retired|         0.0|               3.0|                 0.0|             8.0|     30.0|\n|      Golf Equipment|     M| 47|       Married|     Retired|         0.0|               3.0|                 0.0|             8.0|     30.0|\n|Mountaineering Eq...|     M| 21|        Single|      Retail|         0.0|               2.0|                 1.0|             7.0|     21.0|\n|Personal Accessories|     F| 66|       Married|       Other|         1.0|               1.0|                 0.0|             0.0|     47.0|\n|   Camping Equipment|     F| 35|       Married|Professional|         1.0|               0.0|                 0.0|             1.0|     16.0|\n|Mountaineering Eq...|     M| 20|        Single|       Sales|         0.0|               2.0|                 1.0|             2.0|     19.0|\n|Mountaineering Eq...|     M| 20|        Single|       Sales|         0.0|               2.0|                 1.0|             2.0|     19.0|\n|Mountaineering Eq...|     M| 20|        Single|       Sales|         0.0|               2.0|                 1.0|             2.0|     19.0|\n|Personal Accessories|     F| 37|        Single|       Other|         1.0|               1.0|                 1.0|             0.0|     15.0|\n|   Camping Equipment|     M| 42|       Married|       Other|         0.0|               0.0|                 0.0|             0.0|     25.0|\n|   Camping Equipment|     F| 24|       Married|      Retail|         1.0|               0.0|                 0.0|             7.0|     13.0|\n+--------------------+------+---+--------------+------------+------------+------------------+--------------------+----------------+---------+\nonly showing top 20 rows\n\n"
                }
            ], 
            "source": "df_r.show()"
        }, 
        {
            "source": "### 3.2: Create pipeline and train a model", 
            "cell_type": "markdown", 
            "metadata": {}
        }, 
        {
            "source": "In this section you will create an Apache\u00ae Spark machine learning pipeline and then train the model.", 
            "cell_type": "markdown", 
            "metadata": {}
        }, 
        {
            "source": "In the first step you need to import the Apache\u00ae Spark machine learning packages that will be needed in the subsequent steps.", 
            "cell_type": "markdown", 
            "metadata": {}
        }, 
        {
            "execution_count": 54, 
            "cell_type": "code", 
            "metadata": {}, 
            "outputs": [], 
            "source": "from pyspark.ml.feature import OneHotEncoder, StringIndexer, IndexToString, VectorAssembler\nfrom pyspark.ml.classification import RandomForestClassifier\nfrom pyspark.ml.evaluation import MulticlassClassificationEvaluator\nfrom pyspark.ml import Pipeline, Model"
        }, 
        {
            "source": "In the following step, convert all the string fields to numeric ones by using the StringIndexer transformer.", 
            "cell_type": "markdown", 
            "metadata": {}
        }, 
        {
            "execution_count": 55, 
            "cell_type": "code", 
            "metadata": {}, 
            "outputs": [
                {
                    "output_type": "stream", 
                    "name": "stdout", 
                    "text": "+--------------------+------+---+--------------+------------+\n|        PRODUCT_LINE|GENDER|AGE|MARITAL_STATUS|  PROFESSION|\n+--------------------+------+---+--------------+------------+\n|Personal Accessories|     M| 27|        Single|Professional|\n|Personal Accessories|     F| 39|       Married|       Other|\n|Mountaineering Eq...|     F| 39|       Married|       Other|\n|Personal Accessories|     F| 56|   Unspecified| Hospitality|\n|      Golf Equipment|     M| 45|       Married|     Retired|\n|      Golf Equipment|     M| 45|       Married|     Retired|\n|   Camping Equipment|     F| 39|       Married|       Other|\n|   Camping Equipment|     F| 49|       Married|       Other|\n|  Outdoor Protection|     F| 49|       Married|       Other|\n|      Golf Equipment|     M| 47|       Married|     Retired|\n|      Golf Equipment|     M| 47|       Married|     Retired|\n|Mountaineering Eq...|     M| 21|        Single|      Retail|\n|Personal Accessories|     F| 66|       Married|       Other|\n|   Camping Equipment|     F| 35|       Married|Professional|\n|Mountaineering Eq...|     M| 20|        Single|       Sales|\n|Mountaineering Eq...|     M| 20|        Single|       Sales|\n|Mountaineering Eq...|     M| 20|        Single|       Sales|\n|Personal Accessories|     F| 37|        Single|       Other|\n|   Camping Equipment|     M| 42|       Married|       Other|\n|   Camping Equipment|     F| 24|       Married|      Retail|\n+--------------------+------+---+--------------+------------+\nonly showing top 20 rows\n\n"
                }
            ], 
            "source": "stringIndexer_label = StringIndexer(inputCol=\"PRODUCT_LINE\", outputCol=\"label\").fit(df_data)\nstringIndexer_prof = StringIndexer(inputCol=\"PROFESSION\", outputCol=\"PROFESSION_IX\")\nstringIndexer_gend = StringIndexer(inputCol=\"GENDER\", outputCol=\"GENDER_IX\")\nstringIndexer_mar = StringIndexer(inputCol=\"MARITAL_STATUS\", outputCol=\"MARITAL_STATUS_IX\")\ndf_data.show()"
        }, 
        {
            "source": "In the following step, create a feature vector by combining all features together.", 
            "cell_type": "markdown", 
            "metadata": {}
        }, 
        {
            "execution_count": 56, 
            "cell_type": "code", 
            "metadata": {}, 
            "outputs": [], 
            "source": "vectorAssembler_features = VectorAssembler(inputCols=[\"GENDER_IX\", \"AGE\", \"MARITAL_STATUS_IX\", \"PROFESSION_IX\"], outputCol=\"features\")"
        }, 
        {
            "source": "Next, define estimators you want to use for classification. Random Forest is used in the following example.", 
            "cell_type": "markdown", 
            "metadata": {}
        }, 
        {
            "execution_count": 57, 
            "cell_type": "code", 
            "metadata": {}, 
            "outputs": [], 
            "source": "rf = RandomForestClassifier(labelCol=\"label\", featuresCol=\"features\")"
        }, 
        {
            "source": "Finally, indexed labels back to original labels.", 
            "cell_type": "markdown", 
            "metadata": {}
        }, 
        {
            "execution_count": 58, 
            "cell_type": "code", 
            "metadata": {}, 
            "outputs": [], 
            "source": "labelConverter = IndexToString(inputCol=\"prediction\", outputCol=\"predictedLabel\", labels=stringIndexer_label.labels)"
        }, 
        {
            "source": "Let's build the pipeline now. A pipeline consists of transformers and an estimator.", 
            "cell_type": "markdown", 
            "metadata": {}
        }, 
        {
            "execution_count": 59, 
            "cell_type": "code", 
            "metadata": {}, 
            "outputs": [], 
            "source": "pipeline_rf = Pipeline(stages=[stringIndexer_label, stringIndexer_prof, stringIndexer_gend, stringIndexer_mar, vectorAssembler_features, rf, labelConverter])"
        }, 
        {
            "source": "Now, you can train your Random Forest model by using the previously defined **pipeline** and **train data**.", 
            "cell_type": "markdown", 
            "metadata": {}
        }, 
        {
            "execution_count": 60, 
            "cell_type": "code", 
            "metadata": {}, 
            "outputs": [
                {
                    "output_type": "stream", 
                    "name": "stdout", 
                    "text": "root\n |-- PRODUCT_LINE: string (nullable = true)\n |-- GENDER: string (nullable = true)\n |-- AGE: integer (nullable = true)\n |-- MARITAL_STATUS: string (nullable = true)\n |-- PROFESSION: string (nullable = true)\n\n+-----------------+------+---+--------------+-----------+\n|     PRODUCT_LINE|GENDER|AGE|MARITAL_STATUS| PROFESSION|\n+-----------------+------+---+--------------+-----------+\n|Camping Equipment|     F| 18|        Single|      Other|\n|Camping Equipment|     F| 18|        Single|      Other|\n|Camping Equipment|     F| 18|        Single|     Retail|\n|Camping Equipment|     F| 18|        Single|     Retail|\n|Camping Equipment|     F| 19|        Single|Hospitality|\n|Camping Equipment|     F| 19|        Single|Hospitality|\n|Camping Equipment|     F| 19|        Single|Hospitality|\n|Camping Equipment|     F| 19|        Single|Hospitality|\n|Camping Equipment|     F| 19|        Single|Hospitality|\n|Camping Equipment|     F| 19|        Single|Hospitality|\n|Camping Equipment|     F| 19|        Single|Hospitality|\n|Camping Equipment|     F| 19|        Single|Hospitality|\n|Camping Equipment|     F| 19|        Single|Hospitality|\n|Camping Equipment|     F| 19|        Single|Hospitality|\n|Camping Equipment|     F| 19|        Single|Hospitality|\n|Camping Equipment|     F| 19|        Single|Hospitality|\n|Camping Equipment|     F| 19|        Single|Hospitality|\n|Camping Equipment|     F| 19|        Single|Hospitality|\n|Camping Equipment|     F| 19|        Single|Hospitality|\n|Camping Equipment|     F| 19|        Single|Hospitality|\n+-----------------+------+---+--------------+-----------+\nonly showing top 20 rows\n\n"
                }
            ], 
            "source": "train_data.printSchema()\ntrain_data.show()"
        }, 
        {
            "execution_count": 61, 
            "cell_type": "code", 
            "metadata": {}, 
            "outputs": [], 
            "source": "model_rf = pipeline_rf.fit(train_data)"
        }, 
        {
            "source": "You can check your **model accuracy** now. To evaluate the model, use **test data**.", 
            "cell_type": "markdown", 
            "metadata": {}
        }, 
        {
            "execution_count": 62, 
            "cell_type": "code", 
            "metadata": {}, 
            "outputs": [
                {
                    "output_type": "stream", 
                    "name": "stdout", 
                    "text": "Accuracy = 0.589319\nTest Error = 0.410681\n"
                }
            ], 
            "source": "predictions = model_rf.transform(test_data)\nevaluatorRF = MulticlassClassificationEvaluator(labelCol=\"label\", predictionCol=\"prediction\", metricName=\"accuracy\")\naccuracy = evaluatorRF.evaluate(predictions)\n\nprint(\"Accuracy = %g\" % accuracy)\nprint(\"Test Error = %g\" % (1.0 - accuracy))"
        }, 
        {
            "source": "You can tune your model now to achieve better accuracy. For simplicity of this example tuning section is omitted.", 
            "cell_type": "markdown", 
            "metadata": {
                "collapsed": true
            }
        }, 
        {
            "source": "<a id=\"persistence\"></a>\n## 4. Persist model", 
            "cell_type": "markdown", 
            "metadata": {
                "collapsed": true
            }
        }, 
        {
            "source": "In this section you will learn how to store your pipeline and model in Watson Machine Learning repository by using python client libraries.", 
            "cell_type": "markdown", 
            "metadata": {}
        }, 
        {
            "source": "First, you must import client libraries.\n\n**Note**: Python 2 and Apache\u00ae Spark 2.0 or higher is required.", 
            "cell_type": "markdown", 
            "metadata": {
                "collapsed": true
            }
        }, 
        {
            "execution_count": 63, 
            "cell_type": "code", 
            "metadata": {}, 
            "outputs": [], 
            "source": "from repository_v3.mlrepositoryclient import MLRepositoryClient\nfrom repository_v3.mlrepositoryartifact import MLRepositoryArtifact"
        }, 
        {
            "source": "Authenticate to Watson Machine Learning service on Bluemix.", 
            "cell_type": "markdown", 
            "metadata": {
                "collapsed": true
            }
        }, 
        {
            "source": "**Action**: Put authentication information from your instance of Watson Machine Learning service here.</div>", 
            "cell_type": "markdown", 
            "metadata": {}
        }, 
        {
            "execution_count": 64, 
            "cell_type": "code", 
            "metadata": {}, 
            "outputs": [], 
            "source": "wml_credentials={\n  \"url\": \"https://ibm-watson-ml.mybluemix.net\",\n  \"access_key\": \"mN3bwIsi/xpOh08Bd8D8Zah6UF++y/ZqlqTlJDmJQr6dqC83AFnAyPemGJw9js0JHxGxQ3pIogjgEOjN0TGDTcL0h32gVzPkwMbmHXNpi+FQYUqQmv73SQJrb1WXWeZv\",\n  \"username\": \"75693a81-d133-4c15-8570-3dc0f0f092c1\",\n  \"password\": \"13cb03fd-2b6b-4b24-a17f-49eb2efaf7b9\",\n  \"instance_id\": \"366f855c-745d-4820-9b10-975dac91d5f7\"\n}"
        }, 
        {
            "source": "**Tip**: `wml_service_path`, user and `wml_password` can be found on **Service Credentials** tab of service instance created in Bluemix. If you cannot see **instance_id** field in **Serice Credentials** generate new credentials by pressing **New credential (+)** button. ", 
            "cell_type": "markdown", 
            "metadata": {
                "collapsed": true
            }
        }, 
        {
            "execution_count": 65, 
            "cell_type": "code", 
            "metadata": {}, 
            "outputs": [], 
            "source": "ml_repository_client = MLRepositoryClient(wml_credentials['url'])\nml_repository_client.authorize(wml_credentials['username'], wml_credentials['password'])"
        }, 
        {
            "source": "Create model artifact (abstraction layer).", 
            "cell_type": "markdown", 
            "metadata": {}
        }, 
        {
            "execution_count": 66, 
            "cell_type": "code", 
            "metadata": {}, 
            "outputs": [], 
            "source": "pipeline_artifact = MLRepositoryArtifact(pipeline_rf, name=\"pipeline\")"
        }, 
        {
            "execution_count": 67, 
            "cell_type": "code", 
            "metadata": {}, 
            "outputs": [], 
            "source": "model_artifact = MLRepositoryArtifact(model_rf, training_data=train_data, name=\"Product Line Prediction PySpark\", pipeline_artifact=pipeline_artifact)"
        }, 
        {
            "source": "**Tip**: The MLRepositoryArtifact method expects a trained model object, training data, and a model name. (It is this model name that is displayed by the Watson Machine Learning service).", 
            "cell_type": "markdown", 
            "metadata": {}
        }, 
        {
            "source": "### 4.1: Save pipeline and model", 
            "cell_type": "markdown", 
            "metadata": {}
        }, 
        {
            "source": "In this subsection you will learn how to save pipeline and model artifacts to your Watson Machine Learning instance.", 
            "cell_type": "markdown", 
            "metadata": {}
        }, 
        {
            "execution_count": 68, 
            "cell_type": "code", 
            "metadata": {}, 
            "outputs": [], 
            "source": "saved_model = ml_repository_client.models.save(model_artifact)"
        }, 
        {
            "source": "Get saved model metadata from Watson Machine Learning.", 
            "cell_type": "markdown", 
            "metadata": {}
        }, 
        {
            "source": "**Tip**: Use *meta.available_props()* to get the list of available props.", 
            "cell_type": "markdown", 
            "metadata": {}
        }, 
        {
            "execution_count": 69, 
            "cell_type": "code", 
            "metadata": {}, 
            "outputs": [
                {
                    "execution_count": 69, 
                    "metadata": {}, 
                    "data": {
                        "text/plain": "['inputDataSchema',\n 'tags',\n 'trainingDataReference',\n 'modelVersionUrl',\n 'creationTime',\n 'runtimes',\n 'trainingDataSchema',\n 'trainingDefinitionVersionUrl',\n 'version',\n 'frameworkName',\n 'hyperParameters',\n 'contentStatus',\n 'framework_runtimes',\n 'label_column',\n 'frameworkVersion']"
                    }, 
                    "output_type": "execute_result"
                }
            ], 
            "source": "saved_model.meta.available_props()"
        }, 
        {
            "execution_count": 70, 
            "cell_type": "code", 
            "metadata": {}, 
            "outputs": [
                {
                    "output_type": "stream", 
                    "name": "stdout", 
                    "text": "modelType: mllib\ncreationTime: 2018-04-06 20:38:39.074000+00:00\n"
                }
            ], 
            "source": "print \"modelType: \" + saved_model.meta.prop(\"frameworkName\")\nprint \"creationTime: \" + str(saved_model.meta.prop(\"creationTime\"))"
        }, 
        {
            "source": "**Tip**: **modelVersionHref** is our model unique indentifier in the Watson Machine Learning repository.", 
            "cell_type": "markdown", 
            "metadata": {}
        }, 
        {
            "source": "### 4.2: Load model", 
            "cell_type": "markdown", 
            "metadata": {}
        }, 
        {
            "source": "In this subsection you will learn how to load back saved model from specified instance of Watson Machine Learning.", 
            "cell_type": "markdown", 
            "metadata": {}
        }, 
        {
            "execution_count": 71, 
            "cell_type": "code", 
            "metadata": {}, 
            "outputs": [], 
            "source": "loadedModelArtifact = ml_repository_client.models.get(saved_model.uid)"
        }, 
        {
            "source": "You can print for example model name to make sure that model has been loaded correctly.", 
            "cell_type": "markdown", 
            "metadata": {}
        }, 
        {
            "execution_count": 72, 
            "cell_type": "code", 
            "metadata": {}, 
            "outputs": [
                {
                    "output_type": "stream", 
                    "name": "stdout", 
                    "text": "Product Line Prediction PySpark\n"
                }
            ], 
            "source": "print str(loadedModelArtifact.name)"
        }, 
        {
            "source": "As you can see the name is correct. You have already learned how save and load the model from Watson Machine Learning repository.", 
            "cell_type": "markdown", 
            "metadata": {}
        }, 
        {
            "source": "<a id=\"visualization\"></a>\n## 5. Predict locally and visualize", 
            "cell_type": "markdown", 
            "metadata": {}
        }, 
        {
            "source": "In this section you will learn how to score test data using loaded model and visualize the prediction results with plotly package.", 
            "cell_type": "markdown", 
            "metadata": {}
        }, 
        {
            "source": "### 5.1: Make local prediction using previously loaded model and test data", 
            "cell_type": "markdown", 
            "metadata": {}
        }, 
        {
            "source": "In this subsection you will score *predict_data* data set.", 
            "cell_type": "markdown", 
            "metadata": {}
        }, 
        {
            "execution_count": 73, 
            "cell_type": "code", 
            "metadata": {}, 
            "outputs": [], 
            "source": "predictions = loadedModelArtifact.model_instance().transform(predict_data)"
        }, 
        {
            "source": "Preview the results by calling the *show()* method on the predictions DataFrame.", 
            "cell_type": "markdown", 
            "metadata": {}
        }, 
        {
            "execution_count": 74, 
            "cell_type": "code", 
            "metadata": {}, 
            "outputs": [
                {
                    "output_type": "stream", 
                    "name": "stdout", 
                    "text": "+-----------------+------+---+--------------+----------+-----+-------------+---------+-----------------+------------------+--------------------+--------------------+----------+--------------------+\n|     PRODUCT_LINE|GENDER|AGE|MARITAL_STATUS|PROFESSION|label|PROFESSION_IX|GENDER_IX|MARITAL_STATUS_IX|          features|       rawPrediction|         probability|prediction|      predictedLabel|\n+-----------------+------+---+--------------+----------+-----+-------------+---------+-----------------+------------------+--------------------+--------------------+----------+--------------------+\n|Camping Equipment|     F| 20|        Single|     Other|  0.0|          0.0|      1.0|              1.0|[1.0,20.0,1.0,0.0]|[5.54119162527029...|[0.27705958126351...|       1.0|Personal Accessories|\n|Camping Equipment|     F| 20|        Single|     Other|  0.0|          0.0|      1.0|              1.0|[1.0,20.0,1.0,0.0]|[5.54119162527029...|[0.27705958126351...|       1.0|Personal Accessories|\n|Camping Equipment|     F| 20|        Single|     Other|  0.0|          0.0|      1.0|              1.0|[1.0,20.0,1.0,0.0]|[5.54119162527029...|[0.27705958126351...|       1.0|Personal Accessories|\n|Camping Equipment|     F| 20|        Single|     Other|  0.0|          0.0|      1.0|              1.0|[1.0,20.0,1.0,0.0]|[5.54119162527029...|[0.27705958126351...|       1.0|Personal Accessories|\n|Camping Equipment|     F| 21|       Married|     Other|  0.0|          0.0|      1.0|              0.0|[1.0,21.0,0.0,0.0]|[8.54473640086929...|[0.42723682004346...|       0.0|   Camping Equipment|\n+-----------------+------+---+--------------+----------+-----+-------------+---------+-----------------+------------------+--------------------+--------------------+----------+--------------------+\nonly showing top 5 rows\n\n"
                }
            ], 
            "source": "predictions.show(5)"
        }, 
        {
            "source": "By tabulating a count, you can see which product line is the most popular.", 
            "cell_type": "markdown", 
            "metadata": {}
        }, 
        {
            "execution_count": 75, 
            "cell_type": "code", 
            "metadata": {}, 
            "outputs": [
                {
                    "output_type": "stream", 
                    "name": "stdout", 
                    "text": "+------------------------+-----+\n|predictedLabel          |count|\n+------------------------+-----+\n|Camping Equipment       |717  |\n|Golf Equipment          |61   |\n|Mountaineering Equipment|75   |\n|Personal Accessories    |363  |\n+------------------------+-----+\n\n"
                }
            ], 
            "source": "predictions.select(\"predictedLabel\").groupBy(\"predictedLabel\").count().show(truncate=False)"
        }, 
        {
            "source": "### 5.2: Sample visualization of data with Plotly package", 
            "cell_type": "markdown", 
            "metadata": {}
        }, 
        {
            "source": "In this subsection you will explore prediction results with Plotly, which is an online analytics and data visualization tool.", 
            "cell_type": "markdown", 
            "metadata": {}
        }, 
        {
            "source": "**Example**: First, you need to install required packages. You can do it by running the following code. Run it only one time.<BR><BR>\n!pip install plotly --user <BR>\n!pip install cufflinks==0.8.2 --user", 
            "cell_type": "markdown", 
            "metadata": {}
        }, 
        {
            "source": "Import Plotly and other required packages.", 
            "cell_type": "markdown", 
            "metadata": {}
        }, 
        {
            "execution_count": 77, 
            "cell_type": "code", 
            "metadata": {}, 
            "outputs": [
                {
                    "output_type": "stream", 
                    "name": "stdout", 
                    "text": "Requirement already satisfied: plotly in /usr/local/src/bluemix_jupyter_bundle.v86/notebook/lib/python2.7/site-packages\nRequirement already satisfied: decorator>=4.0.6 in /usr/local/src/bluemix_jupyter_bundle.v86/notebook/lib/python2.7/site-packages (from plotly)\nRequirement already satisfied: requests in /usr/local/src/bluemix_jupyter_bundle.v86/notebook/lib/python2.7/site-packages (from plotly)\nRequirement already satisfied: pytz in /usr/local/src/bluemix_jupyter_bundle.v86/notebook/lib/python2.7/site-packages (from plotly)\nRequirement already satisfied: nbformat>=4.2 in /usr/local/src/bluemix_jupyter_bundle.v86/notebook/lib/python2.7/site-packages (from plotly)\nRequirement already satisfied: six in /gpfs/global_fs01/sym_shared/YPProdSpark/user/s4b5-8af1a9682f921a-a614a6ea83ce/.local/lib/python2.7/site-packages (from plotly)\nRequirement already satisfied: urllib3<1.23,>=1.21.1 in /usr/local/src/bluemix_jupyter_bundle.v86/notebook/lib/python2.7/site-packages (from requests->plotly)\nRequirement already satisfied: idna<2.7,>=2.5 in /usr/local/src/bluemix_jupyter_bundle.v86/notebook/lib/python2.7/site-packages (from requests->plotly)\nRequirement already satisfied: chardet<3.1.0,>=3.0.2 in /usr/local/src/bluemix_jupyter_bundle.v86/notebook/lib/python2.7/site-packages (from requests->plotly)\nRequirement already satisfied: certifi>=2017.4.17 in /usr/local/src/bluemix_jupyter_bundle.v86/notebook/lib/python2.7/site-packages (from requests->plotly)\nRequirement already satisfied: jsonschema!=2.5.0,>=2.4 in /usr/local/src/bluemix_jupyter_bundle.v86/notebook/lib/python2.7/site-packages (from nbformat>=4.2->plotly)\nRequirement already satisfied: jupyter-core in /usr/local/src/bluemix_jupyter_bundle.v86/notebook/lib/python2.7/site-packages (from nbformat>=4.2->plotly)\nRequirement already satisfied: ipython-genutils in /usr/local/src/bluemix_jupyter_bundle.v86/notebook/lib/python2.7/site-packages (from nbformat>=4.2->plotly)\nRequirement already satisfied: traitlets>=4.1 in /usr/local/src/bluemix_jupyter_bundle.v86/notebook/lib/python2.7/site-packages (from nbformat>=4.2->plotly)\nRequirement already satisfied: functools32; python_version == \"2.7\" in /usr/local/src/bluemix_jupyter_bundle.v86/notebook/lib/python2.7/site-packages (from jsonschema!=2.5.0,>=2.4->nbformat>=4.2->plotly)\nCollecting cufflinks==0.8.2\n  Downloading cufflinks-0.8.2.tar.gz\nRequirement already satisfied: pandas in /usr/local/src/bluemix_jupyter_bundle.v86/notebook/lib/python2.7/site-packages (from cufflinks==0.8.2)\nRequirement already satisfied: plotly>=1.7.6 in /usr/local/src/bluemix_jupyter_bundle.v86/notebook/lib/python2.7/site-packages (from cufflinks==0.8.2)\nCollecting colorlover>=0.2 (from cufflinks==0.8.2)\n  Downloading colorlover-0.2.1.tar.gz\nRequirement already satisfied: python-dateutil in /usr/local/src/bluemix_jupyter_bundle.v86/notebook/lib/python2.7/site-packages (from pandas->cufflinks==0.8.2)\nRequirement already satisfied: pytz>=2011k in /usr/local/src/bluemix_jupyter_bundle.v86/notebook/lib/python2.7/site-packages (from pandas->cufflinks==0.8.2)\nRequirement already satisfied: numpy>=1.7.0 in /gpfs/global_fs01/sym_shared/YPProdSpark/user/s4b5-8af1a9682f921a-a614a6ea83ce/.local/lib/python2.7/site-packages (from pandas->cufflinks==0.8.2)\nRequirement already satisfied: decorator>=4.0.6 in /usr/local/src/bluemix_jupyter_bundle.v86/notebook/lib/python2.7/site-packages (from plotly>=1.7.6->cufflinks==0.8.2)\nRequirement already satisfied: requests in /usr/local/src/bluemix_jupyter_bundle.v86/notebook/lib/python2.7/site-packages (from plotly>=1.7.6->cufflinks==0.8.2)\nRequirement already satisfied: six in /gpfs/global_fs01/sym_shared/YPProdSpark/user/s4b5-8af1a9682f921a-a614a6ea83ce/.local/lib/python2.7/site-packages (from plotly>=1.7.6->cufflinks==0.8.2)\nRequirement already satisfied: nbformat>=4.2 in /usr/local/src/bluemix_jupyter_bundle.v86/notebook/lib/python2.7/site-packages (from plotly>=1.7.6->cufflinks==0.8.2)\nRequirement already satisfied: urllib3<1.23,>=1.21.1 in /usr/local/src/bluemix_jupyter_bundle.v86/notebook/lib/python2.7/site-packages (from requests->plotly>=1.7.6->cufflinks==0.8.2)\nRequirement already satisfied: idna<2.7,>=2.5 in /usr/local/src/bluemix_jupyter_bundle.v86/notebook/lib/python2.7/site-packages (from requests->plotly>=1.7.6->cufflinks==0.8.2)\nRequirement already satisfied: chardet<3.1.0,>=3.0.2 in /usr/local/src/bluemix_jupyter_bundle.v86/notebook/lib/python2.7/site-packages (from requests->plotly>=1.7.6->cufflinks==0.8.2)\nRequirement already satisfied: certifi>=2017.4.17 in /usr/local/src/bluemix_jupyter_bundle.v86/notebook/lib/python2.7/site-packages (from requests->plotly>=1.7.6->cufflinks==0.8.2)\nRequirement already satisfied: jsonschema!=2.5.0,>=2.4 in /usr/local/src/bluemix_jupyter_bundle.v86/notebook/lib/python2.7/site-packages (from nbformat>=4.2->plotly>=1.7.6->cufflinks==0.8.2)\nRequirement already satisfied: traitlets>=4.1 in /usr/local/src/bluemix_jupyter_bundle.v86/notebook/lib/python2.7/site-packages (from nbformat>=4.2->plotly>=1.7.6->cufflinks==0.8.2)\nRequirement already satisfied: jupyter-core in /usr/local/src/bluemix_jupyter_bundle.v86/notebook/lib/python2.7/site-packages (from nbformat>=4.2->plotly>=1.7.6->cufflinks==0.8.2)\nRequirement already satisfied: ipython-genutils in /usr/local/src/bluemix_jupyter_bundle.v86/notebook/lib/python2.7/site-packages (from nbformat>=4.2->plotly>=1.7.6->cufflinks==0.8.2)\nRequirement already satisfied: functools32; python_version == \"2.7\" in /usr/local/src/bluemix_jupyter_bundle.v86/notebook/lib/python2.7/site-packages (from jsonschema!=2.5.0,>=2.4->nbformat>=4.2->plotly>=1.7.6->cufflinks==0.8.2)\nBuilding wheels for collected packages: cufflinks, colorlover\n  Running setup.py bdist_wheel for cufflinks ... \u001b[?25ldone\n\u001b[?25h  Stored in directory: /gpfs/fs01/user/s4b5-8af1a9682f921a-a614a6ea83ce/.cache/pip/wheels/de/a9/69/f853eccf2c2ac3ba8e7c79f904eedf354fea15d136902cd8b6\n  Running setup.py bdist_wheel for colorlover ... \u001b[?25ldone\n\u001b[?25h  Stored in directory: /gpfs/fs01/user/s4b5-8af1a9682f921a-a614a6ea83ce/.cache/pip/wheels/b8/b0/18/76d3f3088cc73950ed1aa44ea074b93ed37309fea57dec78dc\nSuccessfully built cufflinks colorlover\nInstalling collected packages: colorlover, cufflinks\nSuccessfully installed colorlover-0.2.1 cufflinks-0.8.2\n"
                }, 
                {
                    "output_type": "display_data", 
                    "data": {
                        "text/html": "<script>requirejs.config({paths: { 'plotly': ['https://cdn.plot.ly/plotly-latest.min']},});if(!window.Plotly) {{require(['plotly'],function(plotly) {window.Plotly=plotly;});}}</script>", 
                        "text/vnd.plotly.v1+html": "<script>requirejs.config({paths: { 'plotly': ['https://cdn.plot.ly/plotly-latest.min']},});if(!window.Plotly) {{require(['plotly'],function(plotly) {window.Plotly=plotly;});}}</script>"
                    }, 
                    "metadata": {}
                }
            ], 
            "source": "!pip install plotly --user\n!pip install cufflinks==0.8.2 --user\nimport sys\nimport pandas\nimport plotly.plotly as py\nfrom plotly.offline import download_plotlyjs, init_notebook_mode, plot, iplot\nimport cufflinks as cf\nimport plotly.graph_objs as go\n\ninit_notebook_mode(connected=True)\nsys.path.append(\"\".join([os.environ[\"HOME\"]])) "
        }, 
        {
            "source": "Convert the Apache Spark DataFrame to a Pandas DataFrame.", 
            "cell_type": "markdown", 
            "metadata": {}
        }, 
        {
            "execution_count": 78, 
            "cell_type": "code", 
            "metadata": {}, 
            "outputs": [], 
            "source": "predictions_pdf = predictions.select(\"prediction\", \"predictedLabel\", \"GENDER\", \"AGE\", \"PROFESSION\", \"MARITAL_STATUS\").toPandas()"
        }, 
        {
            "source": "Plot a pie chart that shows the predicted product-line interest.", 
            "cell_type": "markdown", 
            "metadata": {}
        }, 
        {
            "execution_count": 79, 
            "cell_type": "code", 
            "metadata": {}, 
            "outputs": [
                {
                    "output_type": "display_data", 
                    "data": {
                        "text/html": "<div id=\"29c3bbbe-fe80-4dd6-8984-a5c265afb6fd\" style=\"height: 525px; width: 100%;\" class=\"plotly-graph-div\"></div><script type=\"text/javascript\">require([\"plotly\"], function(Plotly) { window.PLOTLYENV=window.PLOTLYENV || {};window.PLOTLYENV.BASE_URL=\"https://plot.ly\";Plotly.newPlot(\"29c3bbbe-fe80-4dd6-8984-a5c265afb6fd\", [{\"type\": \"pie\", \"labels\": [\"Camping Equipment\", \"Golf Equipment\", \"Mountaineering Equipment\", \"Personal Accessories\"], \"values\": [717, 61, 75, 363]}], {\"title\": \"Predicted product line client interest distribution\"}, {\"linkText\": \"Export to plot.ly\", \"showLink\": true})});</script>", 
                        "text/vnd.plotly.v1+html": "<div id=\"29c3bbbe-fe80-4dd6-8984-a5c265afb6fd\" style=\"height: 525px; width: 100%;\" class=\"plotly-graph-div\"></div><script type=\"text/javascript\">require([\"plotly\"], function(Plotly) { window.PLOTLYENV=window.PLOTLYENV || {};window.PLOTLYENV.BASE_URL=\"https://plot.ly\";Plotly.newPlot(\"29c3bbbe-fe80-4dd6-8984-a5c265afb6fd\", [{\"type\": \"pie\", \"labels\": [\"Camping Equipment\", \"Golf Equipment\", \"Mountaineering Equipment\", \"Personal Accessories\"], \"values\": [717, 61, 75, 363]}], {\"title\": \"Predicted product line client interest distribution\"}, {\"linkText\": \"Export to plot.ly\", \"showLink\": true})});</script>", 
                        "application/vnd.plotly.v1+json": {
                            "data": [
                                {
                                    "type": "pie", 
                                    "labels": [
                                        "Camping Equipment", 
                                        "Golf Equipment", 
                                        "Mountaineering Equipment", 
                                        "Personal Accessories"
                                    ], 
                                    "values": [
                                        717, 
                                        61, 
                                        75, 
                                        363
                                    ]
                                }
                            ], 
                            "layout": {
                                "title": "Predicted product line client interest distribution"
                            }
                        }
                    }, 
                    "metadata": {}
                }
            ], 
            "source": "cumulative_stats = predictions_pdf.groupby(['predictedLabel']).count()\nproduct_data = [go.Pie(labels=cumulative_stats.index, values=cumulative_stats['GENDER'])]\nproduct_layout = go.Layout(title='Predicted product line client interest distribution')\n\nfig = go.Figure(data=product_data, layout=product_layout)\niplot(fig)"
        }, 
        {
            "source": "With this data set, you might want to do some analysis of the mean AGE per product line by using a bar chart.", 
            "cell_type": "markdown", 
            "metadata": {}
        }, 
        {
            "execution_count": 80, 
            "cell_type": "code", 
            "metadata": {}, 
            "outputs": [
                {
                    "output_type": "display_data", 
                    "data": {
                        "text/html": "<div id=\"632387b3-1dea-49ac-8475-00a4fca0aecc\" style=\"height: 525px; width: 100%;\" class=\"plotly-graph-div\"></div><script type=\"text/javascript\">require([\"plotly\"], function(Plotly) { window.PLOTLYENV=window.PLOTLYENV || {};window.PLOTLYENV.BASE_URL=\"https://plot.ly\";Plotly.newPlot(\"632387b3-1dea-49ac-8475-00a4fca0aecc\", [{\"y\": [32.94002789400279, 49.83606557377049, 36.053333333333335, 32.8099173553719], \"x\": [\"Camping Equipment\", \"Golf Equipment\", \"Mountaineering Equipment\", \"Personal Accessories\"], \"type\": \"bar\"}], {\"title\": \"Mean AGE per predicted product line\", \"xaxis\": {\"showline\": false, \"title\": \"Product Line\"}, \"yaxis\": {\"title\": \"Mean AGE\"}}, {\"linkText\": \"Export to plot.ly\", \"showLink\": true})});</script>", 
                        "text/vnd.plotly.v1+html": "<div id=\"632387b3-1dea-49ac-8475-00a4fca0aecc\" style=\"height: 525px; width: 100%;\" class=\"plotly-graph-div\"></div><script type=\"text/javascript\">require([\"plotly\"], function(Plotly) { window.PLOTLYENV=window.PLOTLYENV || {};window.PLOTLYENV.BASE_URL=\"https://plot.ly\";Plotly.newPlot(\"632387b3-1dea-49ac-8475-00a4fca0aecc\", [{\"y\": [32.94002789400279, 49.83606557377049, 36.053333333333335, 32.8099173553719], \"x\": [\"Camping Equipment\", \"Golf Equipment\", \"Mountaineering Equipment\", \"Personal Accessories\"], \"type\": \"bar\"}], {\"title\": \"Mean AGE per predicted product line\", \"xaxis\": {\"showline\": false, \"title\": \"Product Line\"}, \"yaxis\": {\"title\": \"Mean AGE\"}}, {\"linkText\": \"Export to plot.ly\", \"showLink\": true})});</script>", 
                        "application/vnd.plotly.v1+json": {
                            "data": [
                                {
                                    "y": [
                                        32.94002789400279, 
                                        49.83606557377049, 
                                        36.053333333333335, 
                                        32.8099173553719
                                    ], 
                                    "x": [
                                        "Camping Equipment", 
                                        "Golf Equipment", 
                                        "Mountaineering Equipment", 
                                        "Personal Accessories"
                                    ], 
                                    "type": "bar"
                                }
                            ], 
                            "layout": {
                                "title": "Mean AGE per predicted product line", 
                                "xaxis": {
                                    "showline": false, 
                                    "title": "Product Line"
                                }, 
                                "yaxis": {
                                    "title": "Mean AGE"
                                }
                            }
                        }
                    }, 
                    "metadata": {}
                }
            ], 
            "source": "age_data = [go.Bar(y=predictions_pdf.groupby(['predictedLabel']).mean()[\"AGE\"], x=cumulative_stats.index)]\n\nage_layout = go.Layout(\n    title='Mean AGE per predicted product line',\n    xaxis=dict(title = \"Product Line\", showline=False),\n    yaxis=dict(title = \"Mean AGE\"))\n\nfig = go.Figure(data=age_data, layout=age_layout)\niplot(fig)"
        }, 
        {
            "source": "Based on bar plot you created, you might make the following conclusion: The mean age for clients that are interested in golf equipment is predicted to be over 50 years old.", 
            "cell_type": "markdown", 
            "metadata": {}
        }, 
        {
            "source": "<a id=\"scoring\"></a>\n## 6. Deploy and score in a Cloud", 
            "cell_type": "markdown", 
            "metadata": {}
        }, 
        {
            "source": "In this section you will learn how to create online scoring and to score a new data record by using the Watson Machine Learning REST API. \nFor more information about REST APIs, see the [Swagger Documentation](http://watson-ml-api.mybluemix.net/).", 
            "cell_type": "markdown", 
            "metadata": {}
        }, 
        {
            "source": "To work with the Watson Machine Leraning REST API you must generate an access token. To do that you can use the following sample code:", 
            "cell_type": "markdown", 
            "metadata": {
                "collapsed": true
            }
        }, 
        {
            "execution_count": 81, 
            "cell_type": "code", 
            "metadata": {}, 
            "outputs": [], 
            "source": "import urllib3, requests, json\n\nheaders = urllib3.util.make_headers(basic_auth='{username}:{password}'.format(username=wml_credentials['username'], password=wml_credentials['password']))\nurl = '{}/v3/identity/token'.format(wml_credentials['url'])\nresponse = requests.get(url, headers=headers)\nmltoken = json.loads(response.text).get('token')"
        }, 
        {
            "source": "### 6.1: Create online scoring endpoint", 
            "cell_type": "markdown", 
            "metadata": {}
        }, 
        {
            "source": "Now you can create an online scoring endpoint. ", 
            "cell_type": "markdown", 
            "metadata": {}
        }, 
        {
            "source": "#### Get published_models url from instance details", 
            "cell_type": "markdown", 
            "metadata": {}
        }, 
        {
            "execution_count": 82, 
            "cell_type": "code", 
            "metadata": {}, 
            "outputs": [
                {
                    "output_type": "stream", 
                    "name": "stdout", 
                    "text": "<Response [200]>\n{\"metadata\":{\"guid\":\"366f855c-745d-4820-9b10-975dac91d5f7\",\"url\":\"https://ibm-watson-ml.mybluemix.net/v3/wml_instances/366f855c-745d-4820-9b10-975dac91d5f7\",\"created_at\":\"2017-09-13T12:40:47.457Z\",\"modified_at\":\"2018-04-06T20:38:39.318Z\"},\"entity\":{\"source\":\"Bluemix\",\"published_models\":{\"url\":\"https://ibm-watson-ml.mybluemix.net/v3/wml_instances/366f855c-745d-4820-9b10-975dac91d5f7/published_models\"},\"usage\":{\"expiration_date\":\"2018-05-01T00:00:00.000Z\",\"computation_time\":{\"limit\":180000,\"current\":26413},\"model_count\":{\"limit\":200,\"current\":0},\"prediction_count\":{\"limit\":5000,\"current\":49},\"gpu_count\":{\"limit\":8,\"current\":0},\"capacity_units\":{\"limit\":180000000,\"current\":26413588},\"deployment_count\":{\"limit\":5,\"current\":1}},\"plan_id\":\"3f6acf43-ede8-413a-ac69-f8af3bb0cbfe\",\"status\":\"Active\",\"organization_guid\":\"7b5f2512-63b7-4774-abe3-36df05119625\",\"region\":\"us-south\",\"account\":{\"id\":\"500107971\",\"name\":\"BENOIT MAROLLEAU's Account\",\"type\":\"TRIAL\"},\"owner\":{\"ibm_id\":\"060001MXU9\",\"email\":\"benoit.marolleau@fr.ibm.com\",\"user_id\":\"993aefc4-887c-4b6a-aad8-523e4d0a774d\",\"country_code\":\"FRA\",\"beta_user\":true},\"deployments\":{\"url\":\"https://ibm-watson-ml.mybluemix.net/v3/wml_instances/366f855c-745d-4820-9b10-975dac91d5f7/deployments\"},\"space_guid\":\"bffc71d3-cff9-44ac-961a-a614a6ea83ce\",\"plan\":\"lite\"}}\n"
                }
            ], 
            "source": "endpoint_instance = wml_credentials['url'] + \"/v3/wml_instances/\" + wml_credentials['instance_id']\nheader = {'Content-Type': 'application/json', 'Authorization': 'Bearer ' + mltoken}\n\nresponse_get_instance = requests.get(endpoint_instance, headers=header)\n\nprint response_get_instance\nprint response_get_instance.text"
        }, 
        {
            "execution_count": 83, 
            "cell_type": "code", 
            "metadata": {}, 
            "outputs": [
                {
                    "output_type": "stream", 
                    "name": "stdout", 
                    "text": "https://ibm-watson-ml.mybluemix.net/v3/wml_instances/366f855c-745d-4820-9b10-975dac91d5f7/published_models\n"
                }
            ], 
            "source": "endpoint_published_models = json.loads(response_get_instance.text).get('entity').get('published_models').get('url')\n\nprint endpoint_published_models"
        }, 
        {
            "source": "Execute the following sample code that uses the published_models endpoint to get deployments url.", 
            "cell_type": "markdown", 
            "metadata": {}
        }, 
        {
            "source": "#### Get the list of published models", 
            "cell_type": "markdown", 
            "metadata": {}
        }, 
        {
            "execution_count": 84, 
            "cell_type": "code", 
            "metadata": {}, 
            "outputs": [
                {
                    "output_type": "stream", 
                    "name": "stdout", 
                    "text": "<Response [200]>\n{\"limit\":1000,\"resources\":[{\"metadata\":{\"guid\":\"3b616609-2445-4e5b-9a36-dfbe4156d264\",\"url\":\"https://ibm-watson-ml.mybluemix.net/v3/wml_instances/366f855c-745d-4820-9b10-975dac91d5f7/published_models/3b616609-2445-4e5b-9a36-dfbe4156d264\",\"created_at\":\"2017-11-15T17:22:34.174Z\",\"modified_at\":\"2017-11-15T18:41:20.762Z\"},\"entity\":{\"runtime_environment\":\"spark-2.0\",\"learning_configuration_url\":\"https://ibm-watson-ml.mybluemix.net/v3/wml_instances/366f855c-745d-4820-9b10-975dac91d5f7/published_models/3b616609-2445-4e5b-9a36-dfbe4156d264/learning_configuration\",\"author\":{\"name\":\"benoit.marolleau@fr.ibm.com\",\"email\":\"benoit.marolleau@fr.ibm.com\"},\"name\":\"MotorRUL\",\"label_col\":\"label2\",\"learning_iterations_url\":\"https://ibm-watson-ml.mybluemix.net/v3/wml_instances/366f855c-745d-4820-9b10-975dac91d5f7/published_models/3b616609-2445-4e5b-9a36-dfbe4156d264/learning_iterations\",\"training_data_schema\":{\"type\":\"struct\",\"fields\":[{\"name\":\"cycle\",\"type\":\"decimal(31,6)\",\"nullable\":true,\"metadata\":{\"columnInfo\":{\"columnPrimaryKey\":false,\"columnTypeName\":\"decimal\",\"columnSigned\":true,\"columnType\":3,\"columnLength\":31,\"columnNullable\":true,\"columnScale\":6}}},{\"name\":\"setting1\",\"type\":\"decimal(31,6)\",\"nullable\":true,\"metadata\":{\"columnInfo\":{\"columnPrimaryKey\":false,\"columnTypeName\":\"decimal\",\"columnSigned\":true,\"columnType\":3,\"columnLength\":31,\"columnNullable\":true,\"columnScale\":6}}},{\"name\":\"setting2\",\"type\":\"decimal(31,6)\",\"nullable\":true,\"metadata\":{\"columnInfo\":{\"columnPrimaryKey\":false,\"columnTypeName\":\"decimal\",\"columnSigned\":true,\"columnType\":3,\"columnLength\":31,\"columnNullable\":true,\"columnScale\":6}}},{\"name\":\"s2\",\"type\":\"decimal(31,6)\",\"nullable\":true,\"metadata\":{\"columnInfo\":{\"columnPrimaryKey\":false,\"columnTypeName\":\"decimal\",\"columnSigned\":true,\"columnType\":3,\"columnLength\":31,\"columnNullable\":true,\"columnScale\":6}}},{\"name\":\"s3\",\"type\":\"decimal(31,6)\",\"nullable\":true,\"metadata\":{\"columnInfo\":{\"columnPrimaryKey\":false,\"columnTypeName\":\"decimal\",\"columnSigned\":true,\"columnType\":3,\"columnLength\":31,\"columnNullable\":true,\"columnScale\":6}}},{\"name\":\"s4\",\"type\":\"decimal(31,6)\",\"nullable\":true,\"metadata\":{\"columnInfo\":{\"columnPrimaryKey\":false,\"columnTypeName\":\"decimal\",\"columnSigned\":true,\"columnType\":3,\"columnLength\":31,\"columnNullable\":true,\"columnScale\":6}}},{\"name\":\"s6\",\"type\":\"integer\",\"nullable\":true,\"metadata\":{\"columnInfo\":{\"columnPrimaryKey\":false,\"columnTypeName\":\"integer\",\"columnSigned\":true,\"columnType\":4,\"columnLength\":-1,\"columnNullable\":true,\"columnScale\":0}}},{\"name\":\"s7\",\"type\":\"decimal(31,6)\",\"nullable\":true,\"metadata\":{\"columnInfo\":{\"columnPrimaryKey\":false,\"columnTypeName\":\"decimal\",\"columnSigned\":true,\"columnType\":3,\"columnLength\":31,\"columnNullable\":true,\"columnScale\":6}}},{\"name\":\"s8\",\"type\":\"decimal(31,6)\",\"nullable\":true,\"metadata\":{\"columnInfo\":{\"columnPrimaryKey\":false,\"columnTypeName\":\"decimal\",\"columnSigned\":true,\"columnType\":3,\"columnLength\":31,\"columnNullable\":true,\"columnScale\":6}}},{\"name\":\"s9\",\"type\":\"decimal(31,6)\",\"nullable\":true,\"metadata\":{\"columnInfo\":{\"columnPrimaryKey\":false,\"columnTypeName\":\"decimal\",\"columnSigned\":true,\"columnType\":3,\"columnLength\":31,\"columnNullable\":true,\"columnScale\":6}}},{\"name\":\"s11\",\"type\":\"decimal(31,6)\",\"nullable\":true,\"metadata\":{\"columnInfo\":{\"columnPrimaryKey\":false,\"columnTypeName\":\"decimal\",\"columnSigned\":true,\"columnType\":3,\"columnLength\":31,\"columnNullable\":true,\"columnScale\":6}}},{\"name\":\"s12\",\"type\":\"decimal(31,6)\",\"nullable\":true,\"metadata\":{\"columnInfo\":{\"columnPrimaryKey\":false,\"columnTypeName\":\"decimal\",\"columnSigned\":true,\"columnType\":3,\"columnLength\":31,\"columnNullable\":true,\"columnScale\":6}}},{\"name\":\"s13\",\"type\":\"decimal(31,6)\",\"nullable\":true,\"metadata\":{\"columnInfo\":{\"columnPrimaryKey\":false,\"columnTypeName\":\"decimal\",\"columnSigned\":true,\"columnType\":3,\"columnLength\":31,\"columnNullable\":true,\"columnScale\":6}}},{\"name\":\"s14\",\"type\":\"decimal(31,6)\",\"nullable\":true,\"metadata\":{\"columnInfo\":{\"columnPrimaryKey\":false,\"columnTypeName\":\"decimal\",\"columnSigned\":true,\"columnType\":3,\"columnLength\":31,\"columnNullable\":true,\"columnScale\":6}}},{\"name\":\"s15\",\"type\":\"decimal(31,6)\",\"nullable\":true,\"metadata\":{\"columnInfo\":{\"columnPrimaryKey\":false,\"columnTypeName\":\"decimal\",\"columnSigned\":true,\"columnType\":3,\"columnLength\":31,\"columnNullable\":true,\"columnScale\":6}}},{\"name\":\"s17\",\"type\":\"decimal(31,6)\",\"nullable\":true,\"metadata\":{\"columnInfo\":{\"columnPrimaryKey\":false,\"columnTypeName\":\"decimal\",\"columnSigned\":true,\"columnType\":3,\"columnLength\":31,\"columnNullable\":true,\"columnScale\":6}}},{\"name\":\"s20\",\"type\":\"decimal(31,6)\",\"nullable\":true,\"metadata\":{\"columnInfo\":{\"columnPrimaryKey\":false,\"columnTypeName\":\"decimal\",\"columnSigned\":true,\"columnType\":3,\"columnLength\":31,\"columnNullable\":true,\"columnScale\":6}}},{\"name\":\"s21\",\"type\":\"decimal(31,6)\",\"nullable\":true,\"metadata\":{\"columnInfo\":{\"columnPrimaryKey\":false,\"columnTypeName\":\"decimal\",\"columnSigned\":true,\"columnType\":3,\"columnLength\":31,\"columnNullable\":true,\"columnScale\":6}}},{\"name\":\"a2\",\"type\":\"decimal(31,6)\",\"nullable\":true,\"metadata\":{\"columnInfo\":{\"columnPrimaryKey\":false,\"columnTypeName\":\"decimal\",\"columnSigned\":true,\"columnType\":3,\"columnLength\":31,\"columnNullable\":true,\"columnScale\":6}}},{\"name\":\"a3\",\"type\":\"decimal(31,6)\",\"nullable\":true,\"metadata\":{\"columnInfo\":{\"columnPrimaryKey\":false,\"columnTypeName\":\"decimal\",\"columnSigned\":true,\"columnType\":3,\"columnLength\":31,\"columnNullable\":true,\"columnScale\":6}}},{\"name\":\"a4\",\"type\":\"decimal(31,6)\",\"nullable\":true,\"metadata\":{\"columnInfo\":{\"columnPrimaryKey\":false,\"columnTypeName\":\"decimal\",\"columnSigned\":true,\"columnType\":3,\"columnLength\":31,\"columnNullable\":true,\"columnScale\":6}}},{\"name\":\"a6\",\"type\":\"decimal(31,6)\",\"nullable\":true,\"metadata\":{\"columnInfo\":{\"columnPrimaryKey\":false,\"columnTypeName\":\"decimal\",\"columnSigned\":true,\"columnType\":3,\"columnLength\":31,\"columnNullable\":true,\"columnScale\":6}}},{\"name\":\"a7\",\"type\":\"decimal(31,6)\",\"nullable\":true,\"metadata\":{\"columnInfo\":{\"columnPrimaryKey\":false,\"columnTypeName\":\"decimal\",\"columnSigned\":true,\"columnType\":3,\"columnLength\":31,\"columnNullable\":true,\"columnScale\":6}}},{\"name\":\"a8\",\"type\":\"decimal(31,6)\",\"nullable\":true,\"metadata\":{\"columnInfo\":{\"columnPrimaryKey\":false,\"columnTypeName\":\"decimal\",\"columnSigned\":true,\"columnType\":3,\"columnLength\":31,\"columnNullable\":true,\"columnScale\":6}}},{\"name\":\"a9\",\"type\":\"decimal(31,6)\",\"nullable\":true,\"metadata\":{\"columnInfo\":{\"columnPrimaryKey\":false,\"columnTypeName\":\"decimal\",\"columnSigned\":true,\"columnType\":3,\"columnLength\":31,\"columnNullable\":true,\"columnScale\":6}}},{\"name\":\"a11\",\"type\":\"decimal(31,6)\",\"nullable\":true,\"metadata\":{\"columnInfo\":{\"columnPrimaryKey\":false,\"columnTypeName\":\"decimal\",\"columnSigned\":true,\"columnType\":3,\"columnLength\":31,\"columnNullable\":true,\"columnScale\":6}}},{\"name\":\"a12\",\"type\":\"decimal(31,6)\",\"nullable\":true,\"metadata\":{\"columnInfo\":{\"columnPrimaryKey\":false,\"columnTypeName\":\"decimal\",\"columnSigned\":true,\"columnType\":3,\"columnLength\":31,\"columnNullable\":true,\"columnScale\":6}}},{\"name\":\"a13\",\"type\":\"decimal(31,6)\",\"nullable\":true,\"metadata\":{\"columnInfo\":{\"columnPrimaryKey\":false,\"columnTypeName\":\"decimal\",\"columnSigned\":true,\"columnType\":3,\"columnLength\":31,\"columnNullable\":true,\"columnScale\":6}}},{\"name\":\"a14\",\"type\":\"decimal(31,6)\",\"nullable\":true,\"metadata\":{\"columnInfo\":{\"columnPrimaryKey\":false,\"columnTypeName\":\"decimal\",\"columnSigned\":true,\"columnType\":3,\"columnLength\":31,\"columnNullable\":true,\"columnScale\":6}}},{\"name\":\"a15\",\"type\":\"decimal(31,6)\",\"nullable\":true,\"metadata\":{\"columnInfo\":{\"columnPrimaryKey\":false,\"columnTypeName\":\"decimal\",\"columnSigned\":true,\"columnType\":3,\"columnLength\":31,\"columnNullable\":true,\"columnScale\":6}}},{\"name\":\"a17\",\"type\":\"decimal(31,6)\",\"nullable\":true,\"metadata\":{\"columnInfo\":{\"columnPrimaryKey\":false,\"columnTypeName\":\"decimal\",\"columnSigned\":true,\"columnType\":3,\"columnLength\":31,\"columnNullable\":true,\"columnScale\":6}}},{\"name\":\"a20\",\"type\":\"decimal(31,6)\",\"nullable\":true,\"metadata\":{\"columnInfo\":{\"columnPrimaryKey\":false,\"columnTypeName\":\"decimal\",\"columnSigned\":true,\"columnType\":3,\"columnLength\":31,\"columnNullable\":true,\"columnScale\":6}}},{\"name\":\"a21\",\"type\":\"decimal(31,6)\",\"nullable\":true,\"metadata\":{\"columnInfo\":{\"columnPrimaryKey\":false,\"columnTypeName\":\"decimal\",\"columnSigned\":true,\"columnType\":3,\"columnLength\":31,\"columnNullable\":true,\"columnScale\":6}}},{\"name\":\"sd2\",\"type\":\"decimal(31,6)\",\"nullable\":true,\"metadata\":{\"columnInfo\":{\"columnPrimaryKey\":false,\"columnTypeName\":\"decimal\",\"columnSigned\":true,\"columnType\":3,\"columnLength\":31,\"columnNullable\":true,\"columnScale\":6}}},{\"name\":\"sd3\",\"type\":\"decimal(31,6)\",\"nullable\":true,\"metadata\":{\"columnInfo\":{\"columnPrimaryKey\":false,\"columnTypeName\":\"decimal\",\"columnSigned\":true,\"columnType\":3,\"columnLength\":31,\"columnNullable\":true,\"columnScale\":6}}},{\"name\":\"sd4\",\"type\":\"decimal(31,6)\",\"nullable\":true,\"metadata\":{\"columnInfo\":{\"columnPrimaryKey\":false,\"columnTypeName\":\"decimal\",\"columnSigned\":true,\"columnType\":3,\"columnLength\":31,\"columnNullable\":true,\"columnScale\":6}}},{\"name\":\"sd6\",\"type\":\"decimal(31,6)\",\"nullable\":true,\"metadata\":{\"columnInfo\":{\"columnPrimaryKey\":false,\"columnTypeName\":\"decimal\",\"columnSigned\":true,\"columnType\":3,\"columnLength\":31,\"columnNullable\":true,\"columnScale\":6}}},{\"name\":\"sd7\",\"type\":\"decimal(31,6)\",\"nullable\":true,\"metadata\":{\"columnInfo\":{\"columnPrimaryKey\":false,\"columnTypeName\":\"decimal\",\"columnSigned\":true,\"columnType\":3,\"columnLength\":31,\"columnNullable\":true,\"columnScale\":6}}},{\"name\":\"sd8\",\"type\":\"decimal(31,6)\",\"nullable\":true,\"metadata\":{\"columnInfo\":{\"columnPrimaryKey\":false,\"columnTypeName\":\"decimal\",\"columnSigned\":true,\"columnType\":3,\"columnLength\":31,\"columnNullable\":true,\"columnScale\":6}}},{\"name\":\"sd9\",\"type\":\"decimal(31,6)\",\"nullable\":true,\"metadata\":{\"columnInfo\":{\"columnPrimaryKey\":false,\"columnTypeName\":\"decimal\",\"columnSigned\":true,\"columnType\":3,\"columnLength\":31,\"columnNullable\":true,\"columnScale\":6}}},{\"name\":\"sd11\",\"type\":\"decimal(31,6)\",\"nullable\":true,\"metadata\":{\"columnInfo\":{\"columnPrimaryKey\":false,\"columnTypeName\":\"decimal\",\"columnSigned\":true,\"columnType\":3,\"columnLength\":31,\"columnNullable\":true,\"columnScale\":6}}},{\"name\":\"sd12\",\"type\":\"decimal(31,6)\",\"nullable\":true,\"metadata\":{\"columnInfo\":{\"columnPrimaryKey\":false,\"columnTypeName\":\"decimal\",\"columnSigned\":true,\"columnType\":3,\"columnLength\":31,\"columnNullable\":true,\"columnScale\":6}}},{\"name\":\"sd13\",\"type\":\"decimal(31,6)\",\"nullable\":true,\"metadata\":{\"columnInfo\":{\"columnPrimaryKey\":false,\"columnTypeName\":\"decimal\",\"columnSigned\":true,\"columnType\":3,\"columnLength\":31,\"columnNullable\":true,\"columnScale\":6}}},{\"name\":\"sd14\",\"type\":\"decimal(31,6)\",\"nullable\":true,\"metadata\":{\"columnInfo\":{\"columnPrimaryKey\":false,\"columnTypeName\":\"decimal\",\"columnSigned\":true,\"columnType\":3,\"columnLength\":31,\"columnNullable\":true,\"columnScale\":6}}},{\"name\":\"sd15\",\"type\":\"decimal(31,6)\",\"nullable\":true,\"metadata\":{\"columnInfo\":{\"columnPrimaryKey\":false,\"columnTypeName\":\"decimal\",\"columnSigned\":true,\"columnType\":3,\"columnLength\":31,\"columnNullable\":true,\"columnScale\":6}}},{\"name\":\"sd17\",\"type\":\"decimal(31,6)\",\"nullable\":true,\"metadata\":{\"columnInfo\":{\"columnPrimaryKey\":false,\"columnTypeName\":\"decimal\",\"columnSigned\":true,\"columnType\":3,\"columnLength\":31,\"columnNullable\":true,\"columnScale\":6}}},{\"name\":\"sd20\",\"type\":\"decimal(31,6)\",\"nullable\":true,\"metadata\":{\"columnInfo\":{\"columnPrimaryKey\":false,\"columnTypeName\":\"decimal\",\"columnSigned\":true,\"columnType\":3,\"columnLength\":31,\"columnNullable\":true,\"columnScale\":6}}},{\"name\":\"sd21\",\"type\":\"decimal(31,6)\",\"nullable\":true,\"metadata\":{\"columnInfo\":{\"columnPrimaryKey\":false,\"columnTypeName\":\"decimal\",\"columnSigned\":true,\"columnType\":3,\"columnLength\":31,\"columnNullable\":true,\"columnScale\":6}}},{\"name\":\"RUL\",\"type\":\"integer\",\"nullable\":true,\"metadata\":{\"columnInfo\":{\"columnPrimaryKey\":false,\"columnTypeName\":\"integer\",\"columnSigned\":true,\"columnType\":4,\"columnLength\":-1,\"columnNullable\":true,\"columnScale\":0}}},{\"name\":\"label1\",\"type\":\"integer\",\"nullable\":true,\"metadata\":{\"columnInfo\":{\"columnPrimaryKey\":false,\"columnTypeName\":\"integer\",\"columnSigned\":true,\"columnType\":4,\"columnLength\":-1,\"columnNullable\":true,\"columnScale\":0}}},{\"name\":\"label2\",\"type\":\"integer\",\"nullable\":true,\"metadata\":{\"columnInfo\":{\"columnPrimaryKey\":false,\"columnTypeName\":\"integer\",\"columnSigned\":true,\"columnType\":4,\"columnLength\":-1,\"columnNullable\":true,\"columnScale\":0}}}]},\"feedback_url\":\"https://ibm-watson-ml.mybluemix.net/v3/wml_instances/366f855c-745d-4820-9b10-975dac91d5f7/published_models/3b616609-2445-4e5b-9a36-dfbe4156d264/feedback\",\"latest_version\":{\"url\":\"https://ibm-watson-ml.mybluemix.net/v3/ml_assets/models/3b616609-2445-4e5b-9a36-dfbe4156d264/versions/f39f008e-ca96-4d72-98c1-d710ba3a8c9b\",\"guid\":\"f39f008e-ca96-4d72-98c1-d710ba3a8c9b\",\"created_at\":\"2017-11-15T17:22:34.447Z\"},\"model_type\":\"wml-1.1\",\"deployments\":{\"count\":1,\"url\":\"https://ibm-watson-ml.mybluemix.net/v3/wml_instances/366f855c-745d-4820-9b10-975dac91d5f7/published_models/3b616609-2445-4e5b-9a36-dfbe4156d264/deployments\"},\"deployed_version\":{\"url\":\"https://ibm-watson-ml.mybluemix.net/v3/ml_assets/models/3b616609-2445-4e5b-9a36-dfbe4156d264/versions/f39f008e-ca96-4d72-98c1-d710ba3a8c9b\",\"guid\":\"f39f008e-ca96-4d72-98c1-d710ba3a8c9b\",\"created_at\":\"2017-11-15T17:22:34.447Z\"},\"evaluation_metrics_url\":\"https://ibm-watson-ml.mybluemix.net/v3/wml_instances/366f855c-745d-4820-9b10-975dac91d5f7/published_models/3b616609-2445-4e5b-9a36-dfbe4156d264/evaluation_metrics\",\"input_data_schema\":{\"type\":\"struct\",\"fields\":[{\"name\":\"cycle\",\"type\":\"decimal(31,6)\",\"nullable\":true,\"metadata\":{\"columnInfo\":{\"columnPrimaryKey\":false,\"columnTypeName\":\"decimal\",\"columnSigned\":true,\"columnType\":3,\"columnLength\":31,\"columnNullable\":true,\"columnScale\":6}}},{\"name\":\"setting1\",\"type\":\"decimal(31,6)\",\"nullable\":true,\"metadata\":{\"columnInfo\":{\"columnPrimaryKey\":false,\"columnTypeName\":\"decimal\",\"columnSigned\":true,\"columnType\":3,\"columnLength\":31,\"columnNullable\":true,\"columnScale\":6}}},{\"name\":\"setting2\",\"type\":\"decimal(31,6)\",\"nullable\":true,\"metadata\":{\"columnInfo\":{\"columnPrimaryKey\":false,\"columnTypeName\":\"decimal\",\"columnSigned\":true,\"columnType\":3,\"columnLength\":31,\"columnNullable\":true,\"columnScale\":6}}},{\"name\":\"s2\",\"type\":\"decimal(31,6)\",\"nullable\":true,\"metadata\":{\"columnInfo\":{\"columnPrimaryKey\":false,\"columnTypeName\":\"decimal\",\"columnSigned\":true,\"columnType\":3,\"columnLength\":31,\"columnNullable\":true,\"columnScale\":6}}},{\"name\":\"s3\",\"type\":\"decimal(31,6)\",\"nullable\":true,\"metadata\":{\"columnInfo\":{\"columnPrimaryKey\":false,\"columnTypeName\":\"decimal\",\"columnSigned\":true,\"columnType\":3,\"columnLength\":31,\"columnNullable\":true,\"columnScale\":6}}},{\"name\":\"s4\",\"type\":\"decimal(31,6)\",\"nullable\":true,\"metadata\":{\"columnInfo\":{\"columnPrimaryKey\":false,\"columnTypeName\":\"decimal\",\"columnSigned\":true,\"columnType\":3,\"columnLength\":31,\"columnNullable\":true,\"columnScale\":6}}},{\"name\":\"s6\",\"type\":\"integer\",\"nullable\":true,\"metadata\":{\"columnInfo\":{\"columnPrimaryKey\":false,\"columnTypeName\":\"integer\",\"columnSigned\":true,\"columnType\":4,\"columnLength\":-1,\"columnNullable\":true,\"columnScale\":0}}},{\"name\":\"s7\",\"type\":\"decimal(31,6)\",\"nullable\":true,\"metadata\":{\"columnInfo\":{\"columnPrimaryKey\":false,\"columnTypeName\":\"decimal\",\"columnSigned\":true,\"columnType\":3,\"columnLength\":31,\"columnNullable\":true,\"columnScale\":6}}},{\"name\":\"s8\",\"type\":\"decimal(31,6)\",\"nullable\":true,\"metadata\":{\"columnInfo\":{\"columnPrimaryKey\":false,\"columnTypeName\":\"decimal\",\"columnSigned\":true,\"columnType\":3,\"columnLength\":31,\"columnNullable\":true,\"columnScale\":6}}},{\"name\":\"s9\",\"type\":\"decimal(31,6)\",\"nullable\":true,\"metadata\":{\"columnInfo\":{\"columnPrimaryKey\":false,\"columnTypeName\":\"decimal\",\"columnSigned\":true,\"columnType\":3,\"columnLength\":31,\"columnNullable\":true,\"columnScale\":6}}},{\"name\":\"s11\",\"type\":\"decimal(31,6)\",\"nullable\":true,\"metadata\":{\"columnInfo\":{\"columnPrimaryKey\":false,\"columnTypeName\":\"decimal\",\"columnSigned\":true,\"columnType\":3,\"columnLength\":31,\"columnNullable\":true,\"columnScale\":6}}},{\"name\":\"s12\",\"type\":\"decimal(31,6)\",\"nullable\":true,\"metadata\":{\"columnInfo\":{\"columnPrimaryKey\":false,\"columnTypeName\":\"decimal\",\"columnSigned\":true,\"columnType\":3,\"columnLength\":31,\"columnNullable\":true,\"columnScale\":6}}},{\"name\":\"s13\",\"type\":\"decimal(31,6)\",\"nullable\":true,\"metadata\":{\"columnInfo\":{\"columnPrimaryKey\":false,\"columnTypeName\":\"decimal\",\"columnSigned\":true,\"columnType\":3,\"columnLength\":31,\"columnNullable\":true,\"columnScale\":6}}},{\"name\":\"s14\",\"type\":\"decimal(31,6)\",\"nullable\":true,\"metadata\":{\"columnInfo\":{\"columnPrimaryKey\":false,\"columnTypeName\":\"decimal\",\"columnSigned\":true,\"columnType\":3,\"columnLength\":31,\"columnNullable\":true,\"columnScale\":6}}},{\"name\":\"s15\",\"type\":\"decimal(31,6)\",\"nullable\":true,\"metadata\":{\"columnInfo\":{\"columnPrimaryKey\":false,\"columnTypeName\":\"decimal\",\"columnSigned\":true,\"columnType\":3,\"columnLength\":31,\"columnNullable\":true,\"columnScale\":6}}},{\"name\":\"s17\",\"type\":\"decimal(31,6)\",\"nullable\":true,\"metadata\":{\"columnInfo\":{\"columnPrimaryKey\":false,\"columnTypeName\":\"decimal\",\"columnSigned\":true,\"columnType\":3,\"columnLength\":31,\"columnNullable\":true,\"columnScale\":6}}},{\"name\":\"s20\",\"type\":\"decimal(31,6)\",\"nullable\":true,\"metadata\":{\"columnInfo\":{\"columnPrimaryKey\":false,\"columnTypeName\":\"decimal\",\"columnSigned\":true,\"columnType\":3,\"columnLength\":31,\"columnNullable\":true,\"columnScale\":6}}},{\"name\":\"s21\",\"type\":\"decimal(31,6)\",\"nullable\":true,\"metadata\":{\"columnInfo\":{\"columnPrimaryKey\":false,\"columnTypeName\":\"decimal\",\"columnSigned\":true,\"columnType\":3,\"columnLength\":31,\"columnNullable\":true,\"columnScale\":6}}},{\"name\":\"a2\",\"type\":\"decimal(31,6)\",\"nullable\":true,\"metadata\":{\"columnInfo\":{\"columnPrimaryKey\":false,\"columnTypeName\":\"decimal\",\"columnSigned\":true,\"columnType\":3,\"columnLength\":31,\"columnNullable\":true,\"columnScale\":6}}},{\"name\":\"a3\",\"type\":\"decimal(31,6)\",\"nullable\":true,\"metadata\":{\"columnInfo\":{\"columnPrimaryKey\":false,\"columnTypeName\":\"decimal\",\"columnSigned\":true,\"columnType\":3,\"columnLength\":31,\"columnNullable\":true,\"columnScale\":6}}},{\"name\":\"a4\",\"type\":\"decimal(31,6)\",\"nullable\":true,\"metadata\":{\"columnInfo\":{\"columnPrimaryKey\":false,\"columnTypeName\":\"decimal\",\"columnSigned\":true,\"columnType\":3,\"columnLength\":31,\"columnNullable\":true,\"columnScale\":6}}},{\"name\":\"a6\",\"type\":\"decimal(31,6)\",\"nullable\":true,\"metadata\":{\"columnInfo\":{\"columnPrimaryKey\":false,\"columnTypeName\":\"decimal\",\"columnSigned\":true,\"columnType\":3,\"columnLength\":31,\"columnNullable\":true,\"columnScale\":6}}},{\"name\":\"a7\",\"type\":\"decimal(31,6)\",\"nullable\":true,\"metadata\":{\"columnInfo\":{\"columnPrimaryKey\":false,\"columnTypeName\":\"decimal\",\"columnSigned\":true,\"columnType\":3,\"columnLength\":31,\"columnNullable\":true,\"columnScale\":6}}},{\"name\":\"a8\",\"type\":\"decimal(31,6)\",\"nullable\":true,\"metadata\":{\"columnInfo\":{\"columnPrimaryKey\":false,\"columnTypeName\":\"decimal\",\"columnSigned\":true,\"columnType\":3,\"columnLength\":31,\"columnNullable\":true,\"columnScale\":6}}},{\"name\":\"a9\",\"type\":\"decimal(31,6)\",\"nullable\":true,\"metadata\":{\"columnInfo\":{\"columnPrimaryKey\":false,\"columnTypeName\":\"decimal\",\"columnSigned\":true,\"columnType\":3,\"columnLength\":31,\"columnNullable\":true,\"columnScale\":6}}},{\"name\":\"a11\",\"type\":\"decimal(31,6)\",\"nullable\":true,\"metadata\":{\"columnInfo\":{\"columnPrimaryKey\":false,\"columnTypeName\":\"decimal\",\"columnSigned\":true,\"columnType\":3,\"columnLength\":31,\"columnNullable\":true,\"columnScale\":6}}},{\"name\":\"a12\",\"type\":\"decimal(31,6)\",\"nullable\":true,\"metadata\":{\"columnInfo\":{\"columnPrimaryKey\":false,\"columnTypeName\":\"decimal\",\"columnSigned\":true,\"columnType\":3,\"columnLength\":31,\"columnNullable\":true,\"columnScale\":6}}},{\"name\":\"a13\",\"type\":\"decimal(31,6)\",\"nullable\":true,\"metadata\":{\"columnInfo\":{\"columnPrimaryKey\":false,\"columnTypeName\":\"decimal\",\"columnSigned\":true,\"columnType\":3,\"columnLength\":31,\"columnNullable\":true,\"columnScale\":6}}},{\"name\":\"a14\",\"type\":\"decimal(31,6)\",\"nullable\":true,\"metadata\":{\"columnInfo\":{\"columnPrimaryKey\":false,\"columnTypeName\":\"decimal\",\"columnSigned\":true,\"columnType\":3,\"columnLength\":31,\"columnNullable\":true,\"columnScale\":6}}},{\"name\":\"a15\",\"type\":\"decimal(31,6)\",\"nullable\":true,\"metadata\":{\"columnInfo\":{\"columnPrimaryKey\":false,\"columnTypeName\":\"decimal\",\"columnSigned\":true,\"columnType\":3,\"columnLength\":31,\"columnNullable\":true,\"columnScale\":6}}},{\"name\":\"a17\",\"type\":\"decimal(31,6)\",\"nullable\":true,\"metadata\":{\"columnInfo\":{\"columnPrimaryKey\":false,\"columnTypeName\":\"decimal\",\"columnSigned\":true,\"columnType\":3,\"columnLength\":31,\"columnNullable\":true,\"columnScale\":6}}},{\"name\":\"a20\",\"type\":\"decimal(31,6)\",\"nullable\":true,\"metadata\":{\"columnInfo\":{\"columnPrimaryKey\":false,\"columnTypeName\":\"decimal\",\"columnSigned\":true,\"columnType\":3,\"columnLength\":31,\"columnNullable\":true,\"columnScale\":6}}},{\"name\":\"a21\",\"type\":\"decimal(31,6)\",\"nullable\":true,\"metadata\":{\"columnInfo\":{\"columnPrimaryKey\":false,\"columnTypeName\":\"decimal\",\"columnSigned\":true,\"columnType\":3,\"columnLength\":31,\"columnNullable\":true,\"columnScale\":6}}},{\"name\":\"sd2\",\"type\":\"decimal(31,6)\",\"nullable\":true,\"metadata\":{\"columnInfo\":{\"columnPrimaryKey\":false,\"columnTypeName\":\"decimal\",\"columnSigned\":true,\"columnType\":3,\"columnLength\":31,\"columnNullable\":true,\"columnScale\":6}}},{\"name\":\"sd3\",\"type\":\"decimal(31,6)\",\"nullable\":true,\"metadata\":{\"columnInfo\":{\"columnPrimaryKey\":false,\"columnTypeName\":\"decimal\",\"columnSigned\":true,\"columnType\":3,\"columnLength\":31,\"columnNullable\":true,\"columnScale\":6}}},{\"name\":\"sd4\",\"type\":\"decimal(31,6)\",\"nullable\":true,\"metadata\":{\"columnInfo\":{\"columnPrimaryKey\":false,\"columnTypeName\":\"decimal\",\"columnSigned\":true,\"columnType\":3,\"columnLength\":31,\"columnNullable\":true,\"columnScale\":6}}},{\"name\":\"sd6\",\"type\":\"decimal(31,6)\",\"nullable\":true,\"metadata\":{\"columnInfo\":{\"columnPrimaryKey\":false,\"columnTypeName\":\"decimal\",\"columnSigned\":true,\"columnType\":3,\"columnLength\":31,\"columnNullable\":true,\"columnScale\":6}}},{\"name\":\"sd7\",\"type\":\"decimal(31,6)\",\"nullable\":true,\"metadata\":{\"columnInfo\":{\"columnPrimaryKey\":false,\"columnTypeName\":\"decimal\",\"columnSigned\":true,\"columnType\":3,\"columnLength\":31,\"columnNullable\":true,\"columnScale\":6}}},{\"name\":\"sd8\",\"type\":\"decimal(31,6)\",\"nullable\":true,\"metadata\":{\"columnInfo\":{\"columnPrimaryKey\":false,\"columnTypeName\":\"decimal\",\"columnSigned\":true,\"columnType\":3,\"columnLength\":31,\"columnNullable\":true,\"columnScale\":6}}},{\"name\":\"sd9\",\"type\":\"decimal(31,6)\",\"nullable\":true,\"metadata\":{\"columnInfo\":{\"columnPrimaryKey\":false,\"columnTypeName\":\"decimal\",\"columnSigned\":true,\"columnType\":3,\"columnLength\":31,\"columnNullable\":true,\"columnScale\":6}}},{\"name\":\"sd11\",\"type\":\"decimal(31,6)\",\"nullable\":true,\"metadata\":{\"columnInfo\":{\"columnPrimaryKey\":false,\"columnTypeName\":\"decimal\",\"columnSigned\":true,\"columnType\":3,\"columnLength\":31,\"columnNullable\":true,\"columnScale\":6}}},{\"name\":\"sd12\",\"type\":\"decimal(31,6)\",\"nullable\":true,\"metadata\":{\"columnInfo\":{\"columnPrimaryKey\":false,\"columnTypeName\":\"decimal\",\"columnSigned\":true,\"columnType\":3,\"columnLength\":31,\"columnNullable\":true,\"columnScale\":6}}},{\"name\":\"sd13\",\"type\":\"decimal(31,6)\",\"nullable\":true,\"metadata\":{\"columnInfo\":{\"columnPrimaryKey\":false,\"columnTypeName\":\"decimal\",\"columnSigned\":true,\"columnType\":3,\"columnLength\":31,\"columnNullable\":true,\"columnScale\":6}}},{\"name\":\"sd14\",\"type\":\"decimal(31,6)\",\"nullable\":true,\"metadata\":{\"columnInfo\":{\"columnPrimaryKey\":false,\"columnTypeName\":\"decimal\",\"columnSigned\":true,\"columnType\":3,\"columnLength\":31,\"columnNullable\":true,\"columnScale\":6}}},{\"name\":\"sd15\",\"type\":\"decimal(31,6)\",\"nullable\":true,\"metadata\":{\"columnInfo\":{\"columnPrimaryKey\":false,\"columnTypeName\":\"decimal\",\"columnSigned\":true,\"columnType\":3,\"columnLength\":31,\"columnNullable\":true,\"columnScale\":6}}},{\"name\":\"sd17\",\"type\":\"decimal(31,6)\",\"nullable\":true,\"metadata\":{\"columnInfo\":{\"columnPrimaryKey\":false,\"columnTypeName\":\"decimal\",\"columnSigned\":true,\"columnType\":3,\"columnLength\":31,\"columnNullable\":true,\"columnScale\":6}}},{\"name\":\"sd20\",\"type\":\"decimal(31,6)\",\"nullable\":true,\"metadata\":{\"columnInfo\":{\"columnPrimaryKey\":false,\"columnTypeName\":\"decimal\",\"columnSigned\":true,\"columnType\":3,\"columnLength\":31,\"columnNullable\":true,\"columnScale\":6}}},{\"name\":\"sd21\",\"type\":\"decimal(31,6)\",\"nullable\":true,\"metadata\":{\"columnInfo\":{\"columnPrimaryKey\":false,\"columnTypeName\":\"decimal\",\"columnSigned\":true,\"columnType\":3,\"columnLength\":31,\"columnNullable\":true,\"columnScale\":6}}},{\"name\":\"RUL\",\"type\":\"integer\",\"nullable\":true,\"metadata\":{\"columnInfo\":{\"columnPrimaryKey\":false,\"columnTypeName\":\"integer\",\"columnSigned\":true,\"columnType\":4,\"columnLength\":-1,\"columnNullable\":true,\"columnScale\":0}}},{\"name\":\"label1\",\"type\":\"integer\",\"nullable\":true,\"metadata\":{\"columnInfo\":{\"columnPrimaryKey\":false,\"columnTypeName\":\"integer\",\"columnSigned\":true,\"columnType\":4,\"columnLength\":-1,\"columnNullable\":true,\"columnScale\":0}}}]}}},{\"metadata\":{\"guid\":\"feaae33e-a74a-4916-b0fb-926f2479d9ea\",\"url\":\"https://ibm-watson-ml.mybluemix.net/v3/wml_instances/366f855c-745d-4820-9b10-975dac91d5f7/published_models/feaae33e-a74a-4916-b0fb-926f2479d9ea\",\"created_at\":\"2017-11-16T15:36:32.279Z\",\"modified_at\":\"2017-11-16T15:37:26.388Z\"},\"entity\":{\"runtime_environment\":\"spark-2.0\",\"learning_configuration_url\":\"https://ibm-watson-ml.mybluemix.net/v3/wml_instances/366f855c-745d-4820-9b10-975dac91d5f7/published_models/feaae33e-a74a-4916-b0fb-926f2479d9ea/learning_configuration\",\"author\":{\"name\":\"benoit.marolleau@fr.ibm.com\",\"email\":\"benoit.marolleau@fr.ibm.com\"},\"name\":\"EngineRUL-Binary\",\"label_col\":\"label1\",\"learning_iterations_url\":\"https://ibm-watson-ml.mybluemix.net/v3/wml_instances/366f855c-745d-4820-9b10-975dac91d5f7/published_models/feaae33e-a74a-4916-b0fb-926f2479d9ea/learning_iterations\",\"training_data_schema\":{\"type\":\"struct\",\"fields\":[{\"name\":\"cycle\",\"type\":\"decimal(31,6)\",\"nullable\":true,\"metadata\":{\"columnInfo\":{\"columnPrimaryKey\":false,\"columnTypeName\":\"decimal\",\"columnSigned\":true,\"columnType\":3,\"columnLength\":31,\"columnNullable\":true,\"columnScale\":6}}},{\"name\":\"setting1\",\"type\":\"decimal(31,6)\",\"nullable\":true,\"metadata\":{\"columnInfo\":{\"columnPrimaryKey\":false,\"columnTypeName\":\"decimal\",\"columnSigned\":true,\"columnType\":3,\"columnLength\":31,\"columnNullable\":true,\"columnScale\":6}}},{\"name\":\"setting2\",\"type\":\"decimal(31,6)\",\"nullable\":true,\"metadata\":{\"columnInfo\":{\"columnPrimaryKey\":false,\"columnTypeName\":\"decimal\",\"columnSigned\":true,\"columnType\":3,\"columnLength\":31,\"columnNullable\":true,\"columnScale\":6}}},{\"name\":\"s2\",\"type\":\"decimal(31,6)\",\"nullable\":true,\"metadata\":{\"columnInfo\":{\"columnPrimaryKey\":false,\"columnTypeName\":\"decimal\",\"columnSigned\":true,\"columnType\":3,\"columnLength\":31,\"columnNullable\":true,\"columnScale\":6}}},{\"name\":\"s3\",\"type\":\"decimal(31,6)\",\"nullable\":true,\"metadata\":{\"columnInfo\":{\"columnPrimaryKey\":false,\"columnTypeName\":\"decimal\",\"columnSigned\":true,\"columnType\":3,\"columnLength\":31,\"columnNullable\":true,\"columnScale\":6}}},{\"name\":\"s4\",\"type\":\"decimal(31,6)\",\"nullable\":true,\"metadata\":{\"columnInfo\":{\"columnPrimaryKey\":false,\"columnTypeName\":\"decimal\",\"columnSigned\":true,\"columnType\":3,\"columnLength\":31,\"columnNullable\":true,\"columnScale\":6}}},{\"name\":\"s6\",\"type\":\"integer\",\"nullable\":true,\"metadata\":{\"columnInfo\":{\"columnPrimaryKey\":false,\"columnTypeName\":\"integer\",\"columnSigned\":true,\"columnType\":4,\"columnLength\":-1,\"columnNullable\":true,\"columnScale\":0}}},{\"name\":\"s7\",\"type\":\"decimal(31,6)\",\"nullable\":true,\"metadata\":{\"columnInfo\":{\"columnPrimaryKey\":false,\"columnTypeName\":\"decimal\",\"columnSigned\":true,\"columnType\":3,\"columnLength\":31,\"columnNullable\":true,\"columnScale\":6}}},{\"name\":\"s8\",\"type\":\"decimal(31,6)\",\"nullable\":true,\"metadata\":{\"columnInfo\":{\"columnPrimaryKey\":false,\"columnTypeName\":\"decimal\",\"columnSigned\":true,\"columnType\":3,\"columnLength\":31,\"columnNullable\":true,\"columnScale\":6}}},{\"name\":\"s9\",\"type\":\"decimal(31,6)\",\"nullable\":true,\"metadata\":{\"columnInfo\":{\"columnPrimaryKey\":false,\"columnTypeName\":\"decimal\",\"columnSigned\":true,\"columnType\":3,\"columnLength\":31,\"columnNullable\":true,\"columnScale\":6}}},{\"name\":\"s11\",\"type\":\"decimal(31,6)\",\"nullable\":true,\"metadata\":{\"columnInfo\":{\"columnPrimaryKey\":false,\"columnTypeName\":\"decimal\",\"columnSigned\":true,\"columnType\":3,\"columnLength\":31,\"columnNullable\":true,\"columnScale\":6}}},{\"name\":\"s12\",\"type\":\"decimal(31,6)\",\"nullable\":true,\"metadata\":{\"columnInfo\":{\"columnPrimaryKey\":false,\"columnTypeName\":\"decimal\",\"columnSigned\":true,\"columnType\":3,\"columnLength\":31,\"columnNullable\":true,\"columnScale\":6}}},{\"name\":\"s13\",\"type\":\"decimal(31,6)\",\"nullable\":true,\"metadata\":{\"columnInfo\":{\"columnPrimaryKey\":false,\"columnTypeName\":\"decimal\",\"columnSigned\":true,\"columnType\":3,\"columnLength\":31,\"columnNullable\":true,\"columnScale\":6}}},{\"name\":\"s14\",\"type\":\"decimal(31,6)\",\"nullable\":true,\"metadata\":{\"columnInfo\":{\"columnPrimaryKey\":false,\"columnTypeName\":\"decimal\",\"columnSigned\":true,\"columnType\":3,\"columnLength\":31,\"columnNullable\":true,\"columnScale\":6}}},{\"name\":\"s15\",\"type\":\"decimal(31,6)\",\"nullable\":true,\"metadata\":{\"columnInfo\":{\"columnPrimaryKey\":false,\"columnTypeName\":\"decimal\",\"columnSigned\":true,\"columnType\":3,\"columnLength\":31,\"columnNullable\":true,\"columnScale\":6}}},{\"name\":\"s17\",\"type\":\"decimal(31,6)\",\"nullable\":true,\"metadata\":{\"columnInfo\":{\"columnPrimaryKey\":false,\"columnTypeName\":\"decimal\",\"columnSigned\":true,\"columnType\":3,\"columnLength\":31,\"columnNullable\":true,\"columnScale\":6}}},{\"name\":\"s20\",\"type\":\"decimal(31,6)\",\"nullable\":true,\"metadata\":{\"columnInfo\":{\"columnPrimaryKey\":false,\"columnTypeName\":\"decimal\",\"columnSigned\":true,\"columnType\":3,\"columnLength\":31,\"columnNullable\":true,\"columnScale\":6}}},{\"name\":\"s21\",\"type\":\"decimal(31,6)\",\"nullable\":true,\"metadata\":{\"columnInfo\":{\"columnPrimaryKey\":false,\"columnTypeName\":\"decimal\",\"columnSigned\":true,\"columnType\":3,\"columnLength\":31,\"columnNullable\":true,\"columnScale\":6}}},{\"name\":\"a2\",\"type\":\"decimal(31,6)\",\"nullable\":true,\"metadata\":{\"columnInfo\":{\"columnPrimaryKey\":false,\"columnTypeName\":\"decimal\",\"columnSigned\":true,\"columnType\":3,\"columnLength\":31,\"columnNullable\":true,\"columnScale\":6}}},{\"name\":\"a3\",\"type\":\"decimal(31,6)\",\"nullable\":true,\"metadata\":{\"columnInfo\":{\"columnPrimaryKey\":false,\"columnTypeName\":\"decimal\",\"columnSigned\":true,\"columnType\":3,\"columnLength\":31,\"columnNullable\":true,\"columnScale\":6}}},{\"name\":\"a4\",\"type\":\"decimal(31,6)\",\"nullable\":true,\"metadata\":{\"columnInfo\":{\"columnPrimaryKey\":false,\"columnTypeName\":\"decimal\",\"columnSigned\":true,\"columnType\":3,\"columnLength\":31,\"columnNullable\":true,\"columnScale\":6}}},{\"name\":\"a6\",\"type\":\"decimal(31,6)\",\"nullable\":true,\"metadata\":{\"columnInfo\":{\"columnPrimaryKey\":false,\"columnTypeName\":\"decimal\",\"columnSigned\":true,\"columnType\":3,\"columnLength\":31,\"columnNullable\":true,\"columnScale\":6}}},{\"name\":\"a7\",\"type\":\"decimal(31,6)\",\"nullable\":true,\"metadata\":{\"columnInfo\":{\"columnPrimaryKey\":false,\"columnTypeName\":\"decimal\",\"columnSigned\":true,\"columnType\":3,\"columnLength\":31,\"columnNullable\":true,\"columnScale\":6}}},{\"name\":\"a8\",\"type\":\"decimal(31,6)\",\"nullable\":true,\"metadata\":{\"columnInfo\":{\"columnPrimaryKey\":false,\"columnTypeName\":\"decimal\",\"columnSigned\":true,\"columnType\":3,\"columnLength\":31,\"columnNullable\":true,\"columnScale\":6}}},{\"name\":\"a9\",\"type\":\"decimal(31,6)\",\"nullable\":true,\"metadata\":{\"columnInfo\":{\"columnPrimaryKey\":false,\"columnTypeName\":\"decimal\",\"columnSigned\":true,\"columnType\":3,\"columnLength\":31,\"columnNullable\":true,\"columnScale\":6}}},{\"name\":\"a11\",\"type\":\"decimal(31,6)\",\"nullable\":true,\"metadata\":{\"columnInfo\":{\"columnPrimaryKey\":false,\"columnTypeName\":\"decimal\",\"columnSigned\":true,\"columnType\":3,\"columnLength\":31,\"columnNullable\":true,\"columnScale\":6}}},{\"name\":\"a12\",\"type\":\"decimal(31,6)\",\"nullable\":true,\"metadata\":{\"columnInfo\":{\"columnPrimaryKey\":false,\"columnTypeName\":\"decimal\",\"columnSigned\":true,\"columnType\":3,\"columnLength\":31,\"columnNullable\":true,\"columnScale\":6}}},{\"name\":\"a13\",\"type\":\"decimal(31,6)\",\"nullable\":true,\"metadata\":{\"columnInfo\":{\"columnPrimaryKey\":false,\"columnTypeName\":\"decimal\",\"columnSigned\":true,\"columnType\":3,\"columnLength\":31,\"columnNullable\":true,\"columnScale\":6}}},{\"name\":\"a14\",\"type\":\"decimal(31,6)\",\"nullable\":true,\"metadata\":{\"columnInfo\":{\"columnPrimaryKey\":false,\"columnTypeName\":\"decimal\",\"columnSigned\":true,\"columnType\":3,\"columnLength\":31,\"columnNullable\":true,\"columnScale\":6}}},{\"name\":\"a15\",\"type\":\"decimal(31,6)\",\"nullable\":true,\"metadata\":{\"columnInfo\":{\"columnPrimaryKey\":false,\"columnTypeName\":\"decimal\",\"columnSigned\":true,\"columnType\":3,\"columnLength\":31,\"columnNullable\":true,\"columnScale\":6}}},{\"name\":\"a17\",\"type\":\"decimal(31,6)\",\"nullable\":true,\"metadata\":{\"columnInfo\":{\"columnPrimaryKey\":false,\"columnTypeName\":\"decimal\",\"columnSigned\":true,\"columnType\":3,\"columnLength\":31,\"columnNullable\":true,\"columnScale\":6}}},{\"name\":\"a20\",\"type\":\"decimal(31,6)\",\"nullable\":true,\"metadata\":{\"columnInfo\":{\"columnPrimaryKey\":false,\"columnTypeName\":\"decimal\",\"columnSigned\":true,\"columnType\":3,\"columnLength\":31,\"columnNullable\":true,\"columnScale\":6}}},{\"name\":\"a21\",\"type\":\"decimal(31,6)\",\"nullable\":true,\"metadata\":{\"columnInfo\":{\"columnPrimaryKey\":false,\"columnTypeName\":\"decimal\",\"columnSigned\":true,\"columnType\":3,\"columnLength\":31,\"columnNullable\":true,\"columnScale\":6}}},{\"name\":\"sd2\",\"type\":\"decimal(31,6)\",\"nullable\":true,\"metadata\":{\"columnInfo\":{\"columnPrimaryKey\":false,\"columnTypeName\":\"decimal\",\"columnSigned\":true,\"columnType\":3,\"columnLength\":31,\"columnNullable\":true,\"columnScale\":6}}},{\"name\":\"sd3\",\"type\":\"decimal(31,6)\",\"nullable\":true,\"metadata\":{\"columnInfo\":{\"columnPrimaryKey\":false,\"columnTypeName\":\"decimal\",\"columnSigned\":true,\"columnType\":3,\"columnLength\":31,\"columnNullable\":true,\"columnScale\":6}}},{\"name\":\"sd4\",\"type\":\"decimal(31,6)\",\"nullable\":true,\"metadata\":{\"columnInfo\":{\"columnPrimaryKey\":false,\"columnTypeName\":\"decimal\",\"columnSigned\":true,\"columnType\":3,\"columnLength\":31,\"columnNullable\":true,\"columnScale\":6}}},{\"name\":\"sd6\",\"type\":\"decimal(31,6)\",\"nullable\":true,\"metadata\":{\"columnInfo\":{\"columnPrimaryKey\":false,\"columnTypeName\":\"decimal\",\"columnSigned\":true,\"columnType\":3,\"columnLength\":31,\"columnNullable\":true,\"columnScale\":6}}},{\"name\":\"sd7\",\"type\":\"decimal(31,6)\",\"nullable\":true,\"metadata\":{\"columnInfo\":{\"columnPrimaryKey\":false,\"columnTypeName\":\"decimal\",\"columnSigned\":true,\"columnType\":3,\"columnLength\":31,\"columnNullable\":true,\"columnScale\":6}}},{\"name\":\"sd8\",\"type\":\"decimal(31,6)\",\"nullable\":true,\"metadata\":{\"columnInfo\":{\"columnPrimaryKey\":false,\"columnTypeName\":\"decimal\",\"columnSigned\":true,\"columnType\":3,\"columnLength\":31,\"columnNullable\":true,\"columnScale\":6}}},{\"name\":\"sd9\",\"type\":\"decimal(31,6)\",\"nullable\":true,\"metadata\":{\"columnInfo\":{\"columnPrimaryKey\":false,\"columnTypeName\":\"decimal\",\"columnSigned\":true,\"columnType\":3,\"columnLength\":31,\"columnNullable\":true,\"columnScale\":6}}},{\"name\":\"sd11\",\"type\":\"decimal(31,6)\",\"nullable\":true,\"metadata\":{\"columnInfo\":{\"columnPrimaryKey\":false,\"columnTypeName\":\"decimal\",\"columnSigned\":true,\"columnType\":3,\"columnLength\":31,\"columnNullable\":true,\"columnScale\":6}}},{\"name\":\"sd12\",\"type\":\"decimal(31,6)\",\"nullable\":true,\"metadata\":{\"columnInfo\":{\"columnPrimaryKey\":false,\"columnTypeName\":\"decimal\",\"columnSigned\":true,\"columnType\":3,\"columnLength\":31,\"columnNullable\":true,\"columnScale\":6}}},{\"name\":\"sd13\",\"type\":\"decimal(31,6)\",\"nullable\":true,\"metadata\":{\"columnInfo\":{\"columnPrimaryKey\":false,\"columnTypeName\":\"decimal\",\"columnSigned\":true,\"columnType\":3,\"columnLength\":31,\"columnNullable\":true,\"columnScale\":6}}},{\"name\":\"sd14\",\"type\":\"decimal(31,6)\",\"nullable\":true,\"metadata\":{\"columnInfo\":{\"columnPrimaryKey\":false,\"columnTypeName\":\"decimal\",\"columnSigned\":true,\"columnType\":3,\"columnLength\":31,\"columnNullable\":true,\"columnScale\":6}}},{\"name\":\"sd15\",\"type\":\"decimal(31,6)\",\"nullable\":true,\"metadata\":{\"columnInfo\":{\"columnPrimaryKey\":false,\"columnTypeName\":\"decimal\",\"columnSigned\":true,\"columnType\":3,\"columnLength\":31,\"columnNullable\":true,\"columnScale\":6}}},{\"name\":\"sd17\",\"type\":\"decimal(31,6)\",\"nullable\":true,\"metadata\":{\"columnInfo\":{\"columnPrimaryKey\":false,\"columnTypeName\":\"decimal\",\"columnSigned\":true,\"columnType\":3,\"columnLength\":31,\"columnNullable\":true,\"columnScale\":6}}},{\"name\":\"sd20\",\"type\":\"decimal(31,6)\",\"nullable\":true,\"metadata\":{\"columnInfo\":{\"columnPrimaryKey\":false,\"columnTypeName\":\"decimal\",\"columnSigned\":true,\"columnType\":3,\"columnLength\":31,\"columnNullable\":true,\"columnScale\":6}}},{\"name\":\"sd21\",\"type\":\"decimal(31,6)\",\"nullable\":true,\"metadata\":{\"columnInfo\":{\"columnPrimaryKey\":false,\"columnTypeName\":\"decimal\",\"columnSigned\":true,\"columnType\":3,\"columnLength\":31,\"columnNullable\":true,\"columnScale\":6}}},{\"name\":\"RUL\",\"type\":\"integer\",\"nullable\":true,\"metadata\":{\"columnInfo\":{\"columnPrimaryKey\":false,\"columnTypeName\":\"integer\",\"columnSigned\":true,\"columnType\":4,\"columnLength\":-1,\"columnNullable\":true,\"columnScale\":0}}},{\"name\":\"label1\",\"type\":\"integer\",\"nullable\":true,\"metadata\":{\"columnInfo\":{\"columnPrimaryKey\":false,\"columnTypeName\":\"integer\",\"columnSigned\":true,\"columnType\":4,\"columnLength\":-1,\"columnNullable\":true,\"columnScale\":0}}},{\"name\":\"label2\",\"type\":\"integer\",\"nullable\":true,\"metadata\":{\"columnInfo\":{\"columnPrimaryKey\":false,\"columnTypeName\":\"integer\",\"columnSigned\":true,\"columnType\":4,\"columnLength\":-1,\"columnNullable\":true,\"columnScale\":0}}}]},\"feedback_url\":\"https://ibm-watson-ml.mybluemix.net/v3/wml_instances/366f855c-745d-4820-9b10-975dac91d5f7/published_models/feaae33e-a74a-4916-b0fb-926f2479d9ea/feedback\",\"latest_version\":{\"url\":\"https://ibm-watson-ml.mybluemix.net/v3/ml_assets/models/feaae33e-a74a-4916-b0fb-926f2479d9ea/versions/a9b21783-5842-4930-acd6-7775c20a922f\",\"guid\":\"a9b21783-5842-4930-acd6-7775c20a922f\",\"created_at\":\"2017-11-16T15:36:32.492Z\"},\"model_type\":\"wml-1.1\",\"deployments\":{\"count\":1,\"url\":\"https://ibm-watson-ml.mybluemix.net/v3/wml_instances/366f855c-745d-4820-9b10-975dac91d5f7/published_models/feaae33e-a74a-4916-b0fb-926f2479d9ea/deployments\"},\"deployed_version\":{\"url\":\"https://ibm-watson-ml.mybluemix.net/v3/ml_assets/models/feaae33e-a74a-4916-b0fb-926f2479d9ea/versions/a9b21783-5842-4930-acd6-7775c20a922f\",\"guid\":\"a9b21783-5842-4930-acd6-7775c20a922f\",\"created_at\":\"2017-11-16T15:36:32.492Z\"},\"evaluation_metrics_url\":\"https://ibm-watson-ml.mybluemix.net/v3/wml_instances/366f855c-745d-4820-9b10-975dac91d5f7/published_models/feaae33e-a74a-4916-b0fb-926f2479d9ea/evaluation_metrics\",\"input_data_schema\":{\"type\":\"struct\",\"fields\":[{\"name\":\"cycle\",\"type\":\"decimal(31,6)\",\"nullable\":true,\"metadata\":{\"columnInfo\":{\"columnPrimaryKey\":false,\"columnTypeName\":\"decimal\",\"columnSigned\":true,\"columnType\":3,\"columnLength\":31,\"columnNullable\":true,\"columnScale\":6}}},{\"name\":\"setting1\",\"type\":\"decimal(31,6)\",\"nullable\":true,\"metadata\":{\"columnInfo\":{\"columnPrimaryKey\":false,\"columnTypeName\":\"decimal\",\"columnSigned\":true,\"columnType\":3,\"columnLength\":31,\"columnNullable\":true,\"columnScale\":6}}},{\"name\":\"setting2\",\"type\":\"decimal(31,6)\",\"nullable\":true,\"metadata\":{\"columnInfo\":{\"columnPrimaryKey\":false,\"columnTypeName\":\"decimal\",\"columnSigned\":true,\"columnType\":3,\"columnLength\":31,\"columnNullable\":true,\"columnScale\":6}}},{\"name\":\"s2\",\"type\":\"decimal(31,6)\",\"nullable\":true,\"metadata\":{\"columnInfo\":{\"columnPrimaryKey\":false,\"columnTypeName\":\"decimal\",\"columnSigned\":true,\"columnType\":3,\"columnLength\":31,\"columnNullable\":true,\"columnScale\":6}}},{\"name\":\"s3\",\"type\":\"decimal(31,6)\",\"nullable\":true,\"metadata\":{\"columnInfo\":{\"columnPrimaryKey\":false,\"columnTypeName\":\"decimal\",\"columnSigned\":true,\"columnType\":3,\"columnLength\":31,\"columnNullable\":true,\"columnScale\":6}}},{\"name\":\"s4\",\"type\":\"decimal(31,6)\",\"nullable\":true,\"metadata\":{\"columnInfo\":{\"columnPrimaryKey\":false,\"columnTypeName\":\"decimal\",\"columnSigned\":true,\"columnType\":3,\"columnLength\":31,\"columnNullable\":true,\"columnScale\":6}}},{\"name\":\"s6\",\"type\":\"integer\",\"nullable\":true,\"metadata\":{\"columnInfo\":{\"columnPrimaryKey\":false,\"columnTypeName\":\"integer\",\"columnSigned\":true,\"columnType\":4,\"columnLength\":-1,\"columnNullable\":true,\"columnScale\":0}}},{\"name\":\"s7\",\"type\":\"decimal(31,6)\",\"nullable\":true,\"metadata\":{\"columnInfo\":{\"columnPrimaryKey\":false,\"columnTypeName\":\"decimal\",\"columnSigned\":true,\"columnType\":3,\"columnLength\":31,\"columnNullable\":true,\"columnScale\":6}}},{\"name\":\"s8\",\"type\":\"decimal(31,6)\",\"nullable\":true,\"metadata\":{\"columnInfo\":{\"columnPrimaryKey\":false,\"columnTypeName\":\"decimal\",\"columnSigned\":true,\"columnType\":3,\"columnLength\":31,\"columnNullable\":true,\"columnScale\":6}}},{\"name\":\"s9\",\"type\":\"decimal(31,6)\",\"nullable\":true,\"metadata\":{\"columnInfo\":{\"columnPrimaryKey\":false,\"columnTypeName\":\"decimal\",\"columnSigned\":true,\"columnType\":3,\"columnLength\":31,\"columnNullable\":true,\"columnScale\":6}}},{\"name\":\"s11\",\"type\":\"decimal(31,6)\",\"nullable\":true,\"metadata\":{\"columnInfo\":{\"columnPrimaryKey\":false,\"columnTypeName\":\"decimal\",\"columnSigned\":true,\"columnType\":3,\"columnLength\":31,\"columnNullable\":true,\"columnScale\":6}}},{\"name\":\"s12\",\"type\":\"decimal(31,6)\",\"nullable\":true,\"metadata\":{\"columnInfo\":{\"columnPrimaryKey\":false,\"columnTypeName\":\"decimal\",\"columnSigned\":true,\"columnType\":3,\"columnLength\":31,\"columnNullable\":true,\"columnScale\":6}}},{\"name\":\"s13\",\"type\":\"decimal(31,6)\",\"nullable\":true,\"metadata\":{\"columnInfo\":{\"columnPrimaryKey\":false,\"columnTypeName\":\"decimal\",\"columnSigned\":true,\"columnType\":3,\"columnLength\":31,\"columnNullable\":true,\"columnScale\":6}}},{\"name\":\"s14\",\"type\":\"decimal(31,6)\",\"nullable\":true,\"metadata\":{\"columnInfo\":{\"columnPrimaryKey\":false,\"columnTypeName\":\"decimal\",\"columnSigned\":true,\"columnType\":3,\"columnLength\":31,\"columnNullable\":true,\"columnScale\":6}}},{\"name\":\"s15\",\"type\":\"decimal(31,6)\",\"nullable\":true,\"metadata\":{\"columnInfo\":{\"columnPrimaryKey\":false,\"columnTypeName\":\"decimal\",\"columnSigned\":true,\"columnType\":3,\"columnLength\":31,\"columnNullable\":true,\"columnScale\":6}}},{\"name\":\"s17\",\"type\":\"decimal(31,6)\",\"nullable\":true,\"metadata\":{\"columnInfo\":{\"columnPrimaryKey\":false,\"columnTypeName\":\"decimal\",\"columnSigned\":true,\"columnType\":3,\"columnLength\":31,\"columnNullable\":true,\"columnScale\":6}}},{\"name\":\"s20\",\"type\":\"decimal(31,6)\",\"nullable\":true,\"metadata\":{\"columnInfo\":{\"columnPrimaryKey\":false,\"columnTypeName\":\"decimal\",\"columnSigned\":true,\"columnType\":3,\"columnLength\":31,\"columnNullable\":true,\"columnScale\":6}}},{\"name\":\"s21\",\"type\":\"decimal(31,6)\",\"nullable\":true,\"metadata\":{\"columnInfo\":{\"columnPrimaryKey\":false,\"columnTypeName\":\"decimal\",\"columnSigned\":true,\"columnType\":3,\"columnLength\":31,\"columnNullable\":true,\"columnScale\":6}}},{\"name\":\"a2\",\"type\":\"decimal(31,6)\",\"nullable\":true,\"metadata\":{\"columnInfo\":{\"columnPrimaryKey\":false,\"columnTypeName\":\"decimal\",\"columnSigned\":true,\"columnType\":3,\"columnLength\":31,\"columnNullable\":true,\"columnScale\":6}}},{\"name\":\"a3\",\"type\":\"decimal(31,6)\",\"nullable\":true,\"metadata\":{\"columnInfo\":{\"columnPrimaryKey\":false,\"columnTypeName\":\"decimal\",\"columnSigned\":true,\"columnType\":3,\"columnLength\":31,\"columnNullable\":true,\"columnScale\":6}}},{\"name\":\"a4\",\"type\":\"decimal(31,6)\",\"nullable\":true,\"metadata\":{\"columnInfo\":{\"columnPrimaryKey\":false,\"columnTypeName\":\"decimal\",\"columnSigned\":true,\"columnType\":3,\"columnLength\":31,\"columnNullable\":true,\"columnScale\":6}}},{\"name\":\"a6\",\"type\":\"decimal(31,6)\",\"nullable\":true,\"metadata\":{\"columnInfo\":{\"columnPrimaryKey\":false,\"columnTypeName\":\"decimal\",\"columnSigned\":true,\"columnType\":3,\"columnLength\":31,\"columnNullable\":true,\"columnScale\":6}}},{\"name\":\"a7\",\"type\":\"decimal(31,6)\",\"nullable\":true,\"metadata\":{\"columnInfo\":{\"columnPrimaryKey\":false,\"columnTypeName\":\"decimal\",\"columnSigned\":true,\"columnType\":3,\"columnLength\":31,\"columnNullable\":true,\"columnScale\":6}}},{\"name\":\"a8\",\"type\":\"decimal(31,6)\",\"nullable\":true,\"metadata\":{\"columnInfo\":{\"columnPrimaryKey\":false,\"columnTypeName\":\"decimal\",\"columnSigned\":true,\"columnType\":3,\"columnLength\":31,\"columnNullable\":true,\"columnScale\":6}}},{\"name\":\"a9\",\"type\":\"decimal(31,6)\",\"nullable\":true,\"metadata\":{\"columnInfo\":{\"columnPrimaryKey\":false,\"columnTypeName\":\"decimal\",\"columnSigned\":true,\"columnType\":3,\"columnLength\":31,\"columnNullable\":true,\"columnScale\":6}}},{\"name\":\"a11\",\"type\":\"decimal(31,6)\",\"nullable\":true,\"metadata\":{\"columnInfo\":{\"columnPrimaryKey\":false,\"columnTypeName\":\"decimal\",\"columnSigned\":true,\"columnType\":3,\"columnLength\":31,\"columnNullable\":true,\"columnScale\":6}}},{\"name\":\"a12\",\"type\":\"decimal(31,6)\",\"nullable\":true,\"metadata\":{\"columnInfo\":{\"columnPrimaryKey\":false,\"columnTypeName\":\"decimal\",\"columnSigned\":true,\"columnType\":3,\"columnLength\":31,\"columnNullable\":true,\"columnScale\":6}}},{\"name\":\"a13\",\"type\":\"decimal(31,6)\",\"nullable\":true,\"metadata\":{\"columnInfo\":{\"columnPrimaryKey\":false,\"columnTypeName\":\"decimal\",\"columnSigned\":true,\"columnType\":3,\"columnLength\":31,\"columnNullable\":true,\"columnScale\":6}}},{\"name\":\"a14\",\"type\":\"decimal(31,6)\",\"nullable\":true,\"metadata\":{\"columnInfo\":{\"columnPrimaryKey\":false,\"columnTypeName\":\"decimal\",\"columnSigned\":true,\"columnType\":3,\"columnLength\":31,\"columnNullable\":true,\"columnScale\":6}}},{\"name\":\"a15\",\"type\":\"decimal(31,6)\",\"nullable\":true,\"metadata\":{\"columnInfo\":{\"columnPrimaryKey\":false,\"columnTypeName\":\"decimal\",\"columnSigned\":true,\"columnType\":3,\"columnLength\":31,\"columnNullable\":true,\"columnScale\":6}}},{\"name\":\"a17\",\"type\":\"decimal(31,6)\",\"nullable\":true,\"metadata\":{\"columnInfo\":{\"columnPrimaryKey\":false,\"columnTypeName\":\"decimal\",\"columnSigned\":true,\"columnType\":3,\"columnLength\":31,\"columnNullable\":true,\"columnScale\":6}}},{\"name\":\"a20\",\"type\":\"decimal(31,6)\",\"nullable\":true,\"metadata\":{\"columnInfo\":{\"columnPrimaryKey\":false,\"columnTypeName\":\"decimal\",\"columnSigned\":true,\"columnType\":3,\"columnLength\":31,\"columnNullable\":true,\"columnScale\":6}}},{\"name\":\"a21\",\"type\":\"decimal(31,6)\",\"nullable\":true,\"metadata\":{\"columnInfo\":{\"columnPrimaryKey\":false,\"columnTypeName\":\"decimal\",\"columnSigned\":true,\"columnType\":3,\"columnLength\":31,\"columnNullable\":true,\"columnScale\":6}}},{\"name\":\"sd2\",\"type\":\"decimal(31,6)\",\"nullable\":true,\"metadata\":{\"columnInfo\":{\"columnPrimaryKey\":false,\"columnTypeName\":\"decimal\",\"columnSigned\":true,\"columnType\":3,\"columnLength\":31,\"columnNullable\":true,\"columnScale\":6}}},{\"name\":\"sd3\",\"type\":\"decimal(31,6)\",\"nullable\":true,\"metadata\":{\"columnInfo\":{\"columnPrimaryKey\":false,\"columnTypeName\":\"decimal\",\"columnSigned\":true,\"columnType\":3,\"columnLength\":31,\"columnNullable\":true,\"columnScale\":6}}},{\"name\":\"sd4\",\"type\":\"decimal(31,6)\",\"nullable\":true,\"metadata\":{\"columnInfo\":{\"columnPrimaryKey\":false,\"columnTypeName\":\"decimal\",\"columnSigned\":true,\"columnType\":3,\"columnLength\":31,\"columnNullable\":true,\"columnScale\":6}}},{\"name\":\"sd6\",\"type\":\"decimal(31,6)\",\"nullable\":true,\"metadata\":{\"columnInfo\":{\"columnPrimaryKey\":false,\"columnTypeName\":\"decimal\",\"columnSigned\":true,\"columnType\":3,\"columnLength\":31,\"columnNullable\":true,\"columnScale\":6}}},{\"name\":\"sd7\",\"type\":\"decimal(31,6)\",\"nullable\":true,\"metadata\":{\"columnInfo\":{\"columnPrimaryKey\":false,\"columnTypeName\":\"decimal\",\"columnSigned\":true,\"columnType\":3,\"columnLength\":31,\"columnNullable\":true,\"columnScale\":6}}},{\"name\":\"sd8\",\"type\":\"decimal(31,6)\",\"nullable\":true,\"metadata\":{\"columnInfo\":{\"columnPrimaryKey\":false,\"columnTypeName\":\"decimal\",\"columnSigned\":true,\"columnType\":3,\"columnLength\":31,\"columnNullable\":true,\"columnScale\":6}}},{\"name\":\"sd9\",\"type\":\"decimal(31,6)\",\"nullable\":true,\"metadata\":{\"columnInfo\":{\"columnPrimaryKey\":false,\"columnTypeName\":\"decimal\",\"columnSigned\":true,\"columnType\":3,\"columnLength\":31,\"columnNullable\":true,\"columnScale\":6}}},{\"name\":\"sd11\",\"type\":\"decimal(31,6)\",\"nullable\":true,\"metadata\":{\"columnInfo\":{\"columnPrimaryKey\":false,\"columnTypeName\":\"decimal\",\"columnSigned\":true,\"columnType\":3,\"columnLength\":31,\"columnNullable\":true,\"columnScale\":6}}},{\"name\":\"sd12\",\"type\":\"decimal(31,6)\",\"nullable\":true,\"metadata\":{\"columnInfo\":{\"columnPrimaryKey\":false,\"columnTypeName\":\"decimal\",\"columnSigned\":true,\"columnType\":3,\"columnLength\":31,\"columnNullable\":true,\"columnScale\":6}}},{\"name\":\"sd13\",\"type\":\"decimal(31,6)\",\"nullable\":true,\"metadata\":{\"columnInfo\":{\"columnPrimaryKey\":false,\"columnTypeName\":\"decimal\",\"columnSigned\":true,\"columnType\":3,\"columnLength\":31,\"columnNullable\":true,\"columnScale\":6}}},{\"name\":\"sd14\",\"type\":\"decimal(31,6)\",\"nullable\":true,\"metadata\":{\"columnInfo\":{\"columnPrimaryKey\":false,\"columnTypeName\":\"decimal\",\"columnSigned\":true,\"columnType\":3,\"columnLength\":31,\"columnNullable\":true,\"columnScale\":6}}},{\"name\":\"sd15\",\"type\":\"decimal(31,6)\",\"nullable\":true,\"metadata\":{\"columnInfo\":{\"columnPrimaryKey\":false,\"columnTypeName\":\"decimal\",\"columnSigned\":true,\"columnType\":3,\"columnLength\":31,\"columnNullable\":true,\"columnScale\":6}}},{\"name\":\"sd17\",\"type\":\"decimal(31,6)\",\"nullable\":true,\"metadata\":{\"columnInfo\":{\"columnPrimaryKey\":false,\"columnTypeName\":\"decimal\",\"columnSigned\":true,\"columnType\":3,\"columnLength\":31,\"columnNullable\":true,\"columnScale\":6}}},{\"name\":\"sd20\",\"type\":\"decimal(31,6)\",\"nullable\":true,\"metadata\":{\"columnInfo\":{\"columnPrimaryKey\":false,\"columnTypeName\":\"decimal\",\"columnSigned\":true,\"columnType\":3,\"columnLength\":31,\"columnNullable\":true,\"columnScale\":6}}},{\"name\":\"sd21\",\"type\":\"decimal(31,6)\",\"nullable\":true,\"metadata\":{\"columnInfo\":{\"columnPrimaryKey\":false,\"columnTypeName\":\"decimal\",\"columnSigned\":true,\"columnType\":3,\"columnLength\":31,\"columnNullable\":true,\"columnScale\":6}}},{\"name\":\"RUL\",\"type\":\"integer\",\"nullable\":true,\"metadata\":{\"columnInfo\":{\"columnPrimaryKey\":false,\"columnTypeName\":\"integer\",\"columnSigned\":true,\"columnType\":4,\"columnLength\":-1,\"columnNullable\":true,\"columnScale\":0}}},{\"name\":\"label2\",\"type\":\"integer\",\"nullable\":true,\"metadata\":{\"columnInfo\":{\"columnPrimaryKey\":false,\"columnTypeName\":\"integer\",\"columnSigned\":true,\"columnType\":4,\"columnLength\":-1,\"columnNullable\":true,\"columnScale\":0}}}]}}},{\"metadata\":{\"guid\":\"8f9e879f-580c-4e26-921a-50214cb4a4f5\",\"url\":\"https://ibm-watson-ml.mybluemix.net/v3/wml_instances/366f855c-745d-4820-9b10-975dac91d5f7/published_models/8f9e879f-580c-4e26-921a-50214cb4a4f5\",\"created_at\":\"2017-12-11T14:42:52.883Z\",\"modified_at\":\"2017-12-11T14:44:06.670Z\"},\"entity\":{\"runtime_environment\":\"spark-2.0\",\"learning_configuration_url\":\"https://ibm-watson-ml.mybluemix.net/v3/wml_instances/366f855c-745d-4820-9b10-975dac91d5f7/published_models/8f9e879f-580c-4e26-921a-50214cb4a4f5/learning_configuration\",\"author\":{\"name\":\"BENOIT MAROLLEAU\",\"email\":\"benoit.marolleau@fr.ibm.com\"},\"name\":\"determine-RUL\",\"label_col\":\"label2\",\"learning_iterations_url\":\"https://ibm-watson-ml.mybluemix.net/v3/wml_instances/366f855c-745d-4820-9b10-975dac91d5f7/published_models/8f9e879f-580c-4e26-921a-50214cb4a4f5/learning_iterations\",\"training_data_schema\":{\"type\":\"struct\",\"fields\":[{\"name\":\"cycle\",\"type\":\"decimal(31,6)\",\"nullable\":true,\"metadata\":{\"columnInfo\":{\"columnPrimaryKey\":false,\"columnTypeName\":\"decimal\",\"columnSigned\":true,\"columnType\":3,\"columnLength\":31,\"columnNullable\":true,\"columnScale\":6}}},{\"name\":\"setting1\",\"type\":\"decimal(31,6)\",\"nullable\":true,\"metadata\":{\"columnInfo\":{\"columnPrimaryKey\":false,\"columnTypeName\":\"decimal\",\"columnSigned\":true,\"columnType\":3,\"columnLength\":31,\"columnNullable\":true,\"columnScale\":6}}},{\"name\":\"setting2\",\"type\":\"decimal(31,6)\",\"nullable\":true,\"metadata\":{\"columnInfo\":{\"columnPrimaryKey\":false,\"columnTypeName\":\"decimal\",\"columnSigned\":true,\"columnType\":3,\"columnLength\":31,\"columnNullable\":true,\"columnScale\":6}}},{\"name\":\"s2\",\"type\":\"decimal(31,6)\",\"nullable\":true,\"metadata\":{\"columnInfo\":{\"columnPrimaryKey\":false,\"columnTypeName\":\"decimal\",\"columnSigned\":true,\"columnType\":3,\"columnLength\":31,\"columnNullable\":true,\"columnScale\":6}}},{\"name\":\"s3\",\"type\":\"decimal(31,6)\",\"nullable\":true,\"metadata\":{\"columnInfo\":{\"columnPrimaryKey\":false,\"columnTypeName\":\"decimal\",\"columnSigned\":true,\"columnType\":3,\"columnLength\":31,\"columnNullable\":true,\"columnScale\":6}}},{\"name\":\"s4\",\"type\":\"decimal(31,6)\",\"nullable\":true,\"metadata\":{\"columnInfo\":{\"columnPrimaryKey\":false,\"columnTypeName\":\"decimal\",\"columnSigned\":true,\"columnType\":3,\"columnLength\":31,\"columnNullable\":true,\"columnScale\":6}}},{\"name\":\"s6\",\"type\":\"integer\",\"nullable\":true,\"metadata\":{\"columnInfo\":{\"columnPrimaryKey\":false,\"columnTypeName\":\"integer\",\"columnSigned\":true,\"columnType\":4,\"columnLength\":-1,\"columnNullable\":true,\"columnScale\":0}}},{\"name\":\"s7\",\"type\":\"decimal(31,6)\",\"nullable\":true,\"metadata\":{\"columnInfo\":{\"columnPrimaryKey\":false,\"columnTypeName\":\"decimal\",\"columnSigned\":true,\"columnType\":3,\"columnLength\":31,\"columnNullable\":true,\"columnScale\":6}}},{\"name\":\"s8\",\"type\":\"decimal(31,6)\",\"nullable\":true,\"metadata\":{\"columnInfo\":{\"columnPrimaryKey\":false,\"columnTypeName\":\"decimal\",\"columnSigned\":true,\"columnType\":3,\"columnLength\":31,\"columnNullable\":true,\"columnScale\":6}}},{\"name\":\"s9\",\"type\":\"decimal(31,6)\",\"nullable\":true,\"metadata\":{\"columnInfo\":{\"columnPrimaryKey\":false,\"columnTypeName\":\"decimal\",\"columnSigned\":true,\"columnType\":3,\"columnLength\":31,\"columnNullable\":true,\"columnScale\":6}}},{\"name\":\"s11\",\"type\":\"decimal(31,6)\",\"nullable\":true,\"metadata\":{\"columnInfo\":{\"columnPrimaryKey\":false,\"columnTypeName\":\"decimal\",\"columnSigned\":true,\"columnType\":3,\"columnLength\":31,\"columnNullable\":true,\"columnScale\":6}}},{\"name\":\"s12\",\"type\":\"decimal(31,6)\",\"nullable\":true,\"metadata\":{\"columnInfo\":{\"columnPrimaryKey\":false,\"columnTypeName\":\"decimal\",\"columnSigned\":true,\"columnType\":3,\"columnLength\":31,\"columnNullable\":true,\"columnScale\":6}}},{\"name\":\"s13\",\"type\":\"decimal(31,6)\",\"nullable\":true,\"metadata\":{\"columnInfo\":{\"columnPrimaryKey\":false,\"columnTypeName\":\"decimal\",\"columnSigned\":true,\"columnType\":3,\"columnLength\":31,\"columnNullable\":true,\"columnScale\":6}}},{\"name\":\"s14\",\"type\":\"decimal(31,6)\",\"nullable\":true,\"metadata\":{\"columnInfo\":{\"columnPrimaryKey\":false,\"columnTypeName\":\"decimal\",\"columnSigned\":true,\"columnType\":3,\"columnLength\":31,\"columnNullable\":true,\"columnScale\":6}}},{\"name\":\"s15\",\"type\":\"decimal(31,6)\",\"nullable\":true,\"metadata\":{\"columnInfo\":{\"columnPrimaryKey\":false,\"columnTypeName\":\"decimal\",\"columnSigned\":true,\"columnType\":3,\"columnLength\":31,\"columnNullable\":true,\"columnScale\":6}}},{\"name\":\"s17\",\"type\":\"decimal(31,6)\",\"nullable\":true,\"metadata\":{\"columnInfo\":{\"columnPrimaryKey\":false,\"columnTypeName\":\"decimal\",\"columnSigned\":true,\"columnType\":3,\"columnLength\":31,\"columnNullable\":true,\"columnScale\":6}}},{\"name\":\"s20\",\"type\":\"decimal(31,6)\",\"nullable\":true,\"metadata\":{\"columnInfo\":{\"columnPrimaryKey\":false,\"columnTypeName\":\"decimal\",\"columnSigned\":true,\"columnType\":3,\"columnLength\":31,\"columnNullable\":true,\"columnScale\":6}}},{\"name\":\"s21\",\"type\":\"decimal(31,6)\",\"nullable\":true,\"metadata\":{\"columnInfo\":{\"columnPrimaryKey\":false,\"columnTypeName\":\"decimal\",\"columnSigned\":true,\"columnType\":3,\"columnLength\":31,\"columnNullable\":true,\"columnScale\":6}}},{\"name\":\"a2\",\"type\":\"decimal(31,6)\",\"nullable\":true,\"metadata\":{\"columnInfo\":{\"columnPrimaryKey\":false,\"columnTypeName\":\"decimal\",\"columnSigned\":true,\"columnType\":3,\"columnLength\":31,\"columnNullable\":true,\"columnScale\":6}}},{\"name\":\"a3\",\"type\":\"decimal(31,6)\",\"nullable\":true,\"metadata\":{\"columnInfo\":{\"columnPrimaryKey\":false,\"columnTypeName\":\"decimal\",\"columnSigned\":true,\"columnType\":3,\"columnLength\":31,\"columnNullable\":true,\"columnScale\":6}}},{\"name\":\"a4\",\"type\":\"decimal(31,6)\",\"nullable\":true,\"metadata\":{\"columnInfo\":{\"columnPrimaryKey\":false,\"columnTypeName\":\"decimal\",\"columnSigned\":true,\"columnType\":3,\"columnLength\":31,\"columnNullable\":true,\"columnScale\":6}}},{\"name\":\"a6\",\"type\":\"decimal(31,6)\",\"nullable\":true,\"metadata\":{\"columnInfo\":{\"columnPrimaryKey\":false,\"columnTypeName\":\"decimal\",\"columnSigned\":true,\"columnType\":3,\"columnLength\":31,\"columnNullable\":true,\"columnScale\":6}}},{\"name\":\"a7\",\"type\":\"decimal(31,6)\",\"nullable\":true,\"metadata\":{\"columnInfo\":{\"columnPrimaryKey\":false,\"columnTypeName\":\"decimal\",\"columnSigned\":true,\"columnType\":3,\"columnLength\":31,\"columnNullable\":true,\"columnScale\":6}}},{\"name\":\"a8\",\"type\":\"decimal(31,6)\",\"nullable\":true,\"metadata\":{\"columnInfo\":{\"columnPrimaryKey\":false,\"columnTypeName\":\"decimal\",\"columnSigned\":true,\"columnType\":3,\"columnLength\":31,\"columnNullable\":true,\"columnScale\":6}}},{\"name\":\"a9\",\"type\":\"decimal(31,6)\",\"nullable\":true,\"metadata\":{\"columnInfo\":{\"columnPrimaryKey\":false,\"columnTypeName\":\"decimal\",\"columnSigned\":true,\"columnType\":3,\"columnLength\":31,\"columnNullable\":true,\"columnScale\":6}}},{\"name\":\"a11\",\"type\":\"decimal(31,6)\",\"nullable\":true,\"metadata\":{\"columnInfo\":{\"columnPrimaryKey\":false,\"columnTypeName\":\"decimal\",\"columnSigned\":true,\"columnType\":3,\"columnLength\":31,\"columnNullable\":true,\"columnScale\":6}}},{\"name\":\"a12\",\"type\":\"decimal(31,6)\",\"nullable\":true,\"metadata\":{\"columnInfo\":{\"columnPrimaryKey\":false,\"columnTypeName\":\"decimal\",\"columnSigned\":true,\"columnType\":3,\"columnLength\":31,\"columnNullable\":true,\"columnScale\":6}}},{\"name\":\"a13\",\"type\":\"decimal(31,6)\",\"nullable\":true,\"metadata\":{\"columnInfo\":{\"columnPrimaryKey\":false,\"columnTypeName\":\"decimal\",\"columnSigned\":true,\"columnType\":3,\"columnLength\":31,\"columnNullable\":true,\"columnScale\":6}}},{\"name\":\"a14\",\"type\":\"decimal(31,6)\",\"nullable\":true,\"metadata\":{\"columnInfo\":{\"columnPrimaryKey\":false,\"columnTypeName\":\"decimal\",\"columnSigned\":true,\"columnType\":3,\"columnLength\":31,\"columnNullable\":true,\"columnScale\":6}}},{\"name\":\"a15\",\"type\":\"decimal(31,6)\",\"nullable\":true,\"metadata\":{\"columnInfo\":{\"columnPrimaryKey\":false,\"columnTypeName\":\"decimal\",\"columnSigned\":true,\"columnType\":3,\"columnLength\":31,\"columnNullable\":true,\"columnScale\":6}}},{\"name\":\"a17\",\"type\":\"decimal(31,6)\",\"nullable\":true,\"metadata\":{\"columnInfo\":{\"columnPrimaryKey\":false,\"columnTypeName\":\"decimal\",\"columnSigned\":true,\"columnType\":3,\"columnLength\":31,\"columnNullable\":true,\"columnScale\":6}}},{\"name\":\"a20\",\"type\":\"decimal(31,6)\",\"nullable\":true,\"metadata\":{\"columnInfo\":{\"columnPrimaryKey\":false,\"columnTypeName\":\"decimal\",\"columnSigned\":true,\"columnType\":3,\"columnLength\":31,\"columnNullable\":true,\"columnScale\":6}}},{\"name\":\"a21\",\"type\":\"decimal(31,6)\",\"nullable\":true,\"metadata\":{\"columnInfo\":{\"columnPrimaryKey\":false,\"columnTypeName\":\"decimal\",\"columnSigned\":true,\"columnType\":3,\"columnLength\":31,\"columnNullable\":true,\"columnScale\":6}}},{\"name\":\"sd2\",\"type\":\"decimal(31,6)\",\"nullable\":true,\"metadata\":{\"columnInfo\":{\"columnPrimaryKey\":false,\"columnTypeName\":\"decimal\",\"columnSigned\":true,\"columnType\":3,\"columnLength\":31,\"columnNullable\":true,\"columnScale\":6}}},{\"name\":\"sd3\",\"type\":\"decimal(31,6)\",\"nullable\":true,\"metadata\":{\"columnInfo\":{\"columnPrimaryKey\":false,\"columnTypeName\":\"decimal\",\"columnSigned\":true,\"columnType\":3,\"columnLength\":31,\"columnNullable\":true,\"columnScale\":6}}},{\"name\":\"sd4\",\"type\":\"decimal(31,6)\",\"nullable\":true,\"metadata\":{\"columnInfo\":{\"columnPrimaryKey\":false,\"columnTypeName\":\"decimal\",\"columnSigned\":true,\"columnType\":3,\"columnLength\":31,\"columnNullable\":true,\"columnScale\":6}}},{\"name\":\"sd6\",\"type\":\"decimal(31,6)\",\"nullable\":true,\"metadata\":{\"columnInfo\":{\"columnPrimaryKey\":false,\"columnTypeName\":\"decimal\",\"columnSigned\":true,\"columnType\":3,\"columnLength\":31,\"columnNullable\":true,\"columnScale\":6}}},{\"name\":\"sd7\",\"type\":\"decimal(31,6)\",\"nullable\":true,\"metadata\":{\"columnInfo\":{\"columnPrimaryKey\":false,\"columnTypeName\":\"decimal\",\"columnSigned\":true,\"columnType\":3,\"columnLength\":31,\"columnNullable\":true,\"columnScale\":6}}},{\"name\":\"sd8\",\"type\":\"decimal(31,6)\",\"nullable\":true,\"metadata\":{\"columnInfo\":{\"columnPrimaryKey\":false,\"columnTypeName\":\"decimal\",\"columnSigned\":true,\"columnType\":3,\"columnLength\":31,\"columnNullable\":true,\"columnScale\":6}}},{\"name\":\"sd9\",\"type\":\"decimal(31,6)\",\"nullable\":true,\"metadata\":{\"columnInfo\":{\"columnPrimaryKey\":false,\"columnTypeName\":\"decimal\",\"columnSigned\":true,\"columnType\":3,\"columnLength\":31,\"columnNullable\":true,\"columnScale\":6}}},{\"name\":\"sd11\",\"type\":\"decimal(31,6)\",\"nullable\":true,\"metadata\":{\"columnInfo\":{\"columnPrimaryKey\":false,\"columnTypeName\":\"decimal\",\"columnSigned\":true,\"columnType\":3,\"columnLength\":31,\"columnNullable\":true,\"columnScale\":6}}},{\"name\":\"sd12\",\"type\":\"decimal(31,6)\",\"nullable\":true,\"metadata\":{\"columnInfo\":{\"columnPrimaryKey\":false,\"columnTypeName\":\"decimal\",\"columnSigned\":true,\"columnType\":3,\"columnLength\":31,\"columnNullable\":true,\"columnScale\":6}}},{\"name\":\"sd13\",\"type\":\"decimal(31,6)\",\"nullable\":true,\"metadata\":{\"columnInfo\":{\"columnPrimaryKey\":false,\"columnTypeName\":\"decimal\",\"columnSigned\":true,\"columnType\":3,\"columnLength\":31,\"columnNullable\":true,\"columnScale\":6}}},{\"name\":\"sd14\",\"type\":\"decimal(31,6)\",\"nullable\":true,\"metadata\":{\"columnInfo\":{\"columnPrimaryKey\":false,\"columnTypeName\":\"decimal\",\"columnSigned\":true,\"columnType\":3,\"columnLength\":31,\"columnNullable\":true,\"columnScale\":6}}},{\"name\":\"sd15\",\"type\":\"decimal(31,6)\",\"nullable\":true,\"metadata\":{\"columnInfo\":{\"columnPrimaryKey\":false,\"columnTypeName\":\"decimal\",\"columnSigned\":true,\"columnType\":3,\"columnLength\":31,\"columnNullable\":true,\"columnScale\":6}}},{\"name\":\"sd17\",\"type\":\"decimal(31,6)\",\"nullable\":true,\"metadata\":{\"columnInfo\":{\"columnPrimaryKey\":false,\"columnTypeName\":\"decimal\",\"columnSigned\":true,\"columnType\":3,\"columnLength\":31,\"columnNullable\":true,\"columnScale\":6}}},{\"name\":\"sd20\",\"type\":\"decimal(31,6)\",\"nullable\":true,\"metadata\":{\"columnInfo\":{\"columnPrimaryKey\":false,\"columnTypeName\":\"decimal\",\"columnSigned\":true,\"columnType\":3,\"columnLength\":31,\"columnNullable\":true,\"columnScale\":6}}},{\"name\":\"sd21\",\"type\":\"decimal(31,6)\",\"nullable\":true,\"metadata\":{\"columnInfo\":{\"columnPrimaryKey\":false,\"columnTypeName\":\"decimal\",\"columnSigned\":true,\"columnType\":3,\"columnLength\":31,\"columnNullable\":true,\"columnScale\":6}}},{\"name\":\"RUL\",\"type\":\"integer\",\"nullable\":true,\"metadata\":{\"columnInfo\":{\"columnPrimaryKey\":false,\"columnTypeName\":\"integer\",\"columnSigned\":true,\"columnType\":4,\"columnLength\":-1,\"columnNullable\":true,\"columnScale\":0}}},{\"name\":\"label1\",\"type\":\"integer\",\"nullable\":true,\"metadata\":{\"columnInfo\":{\"columnPrimaryKey\":false,\"columnTypeName\":\"integer\",\"columnSigned\":true,\"columnType\":4,\"columnLength\":-1,\"columnNullable\":true,\"columnScale\":0}}},{\"name\":\"label2\",\"type\":\"integer\",\"nullable\":true,\"metadata\":{\"columnInfo\":{\"columnPrimaryKey\":false,\"columnTypeName\":\"integer\",\"columnSigned\":true,\"columnType\":4,\"columnLength\":-1,\"columnNullable\":true,\"columnScale\":0}}}]},\"feedback_url\":\"https://ibm-watson-ml.mybluemix.net/v3/wml_instances/366f855c-745d-4820-9b10-975dac91d5f7/published_models/8f9e879f-580c-4e26-921a-50214cb4a4f5/feedback\",\"latest_version\":{\"url\":\"https://ibm-watson-ml.mybluemix.net/v3/ml_assets/models/8f9e879f-580c-4e26-921a-50214cb4a4f5/versions/7a0626f0-a552-4aa5-a8c0-c5ca77d93d3b\",\"guid\":\"7a0626f0-a552-4aa5-a8c0-c5ca77d93d3b\",\"created_at\":\"2017-12-11T14:42:53.111Z\"},\"model_type\":\"wml-1.1\",\"deployments\":{\"count\":1,\"url\":\"https://ibm-watson-ml.mybluemix.net/v3/wml_instances/366f855c-745d-4820-9b10-975dac91d5f7/published_models/8f9e879f-580c-4e26-921a-50214cb4a4f5/deployments\"},\"deployed_version\":{\"url\":\"https://ibm-watson-ml.mybluemix.net/v3/ml_assets/models/8f9e879f-580c-4e26-921a-50214cb4a4f5/versions/7a0626f0-a552-4aa5-a8c0-c5ca77d93d3b\",\"guid\":\"7a0626f0-a552-4aa5-a8c0-c5ca77d93d3b\"},\"evaluation_metrics_url\":\"https://ibm-watson-ml.mybluemix.net/v3/wml_instances/366f855c-745d-4820-9b10-975dac91d5f7/published_models/8f9e879f-580c-4e26-921a-50214cb4a4f5/evaluation_metrics\",\"input_data_schema\":{\"type\":\"struct\",\"fields\":[{\"name\":\"cycle\",\"type\":\"decimal(31,6)\",\"nullable\":true,\"metadata\":{\"columnInfo\":{\"columnPrimaryKey\":false,\"columnTypeName\":\"decimal\",\"columnSigned\":true,\"columnType\":3,\"columnLength\":31,\"columnNullable\":true,\"columnScale\":6}}},{\"name\":\"setting1\",\"type\":\"decimal(31,6)\",\"nullable\":true,\"metadata\":{\"columnInfo\":{\"columnPrimaryKey\":false,\"columnTypeName\":\"decimal\",\"columnSigned\":true,\"columnType\":3,\"columnLength\":31,\"columnNullable\":true,\"columnScale\":6}}},{\"name\":\"setting2\",\"type\":\"decimal(31,6)\",\"nullable\":true,\"metadata\":{\"columnInfo\":{\"columnPrimaryKey\":false,\"columnTypeName\":\"decimal\",\"columnSigned\":true,\"columnType\":3,\"columnLength\":31,\"columnNullable\":true,\"columnScale\":6}}},{\"name\":\"s2\",\"type\":\"decimal(31,6)\",\"nullable\":true,\"metadata\":{\"columnInfo\":{\"columnPrimaryKey\":false,\"columnTypeName\":\"decimal\",\"columnSigned\":true,\"columnType\":3,\"columnLength\":31,\"columnNullable\":true,\"columnScale\":6}}},{\"name\":\"s3\",\"type\":\"decimal(31,6)\",\"nullable\":true,\"metadata\":{\"columnInfo\":{\"columnPrimaryKey\":false,\"columnTypeName\":\"decimal\",\"columnSigned\":true,\"columnType\":3,\"columnLength\":31,\"columnNullable\":true,\"columnScale\":6}}},{\"name\":\"s4\",\"type\":\"decimal(31,6)\",\"nullable\":true,\"metadata\":{\"columnInfo\":{\"columnPrimaryKey\":false,\"columnTypeName\":\"decimal\",\"columnSigned\":true,\"columnType\":3,\"columnLength\":31,\"columnNullable\":true,\"columnScale\":6}}},{\"name\":\"s6\",\"type\":\"integer\",\"nullable\":true,\"metadata\":{\"columnInfo\":{\"columnPrimaryKey\":false,\"columnTypeName\":\"integer\",\"columnSigned\":true,\"columnType\":4,\"columnLength\":-1,\"columnNullable\":true,\"columnScale\":0}}},{\"name\":\"s7\",\"type\":\"decimal(31,6)\",\"nullable\":true,\"metadata\":{\"columnInfo\":{\"columnPrimaryKey\":false,\"columnTypeName\":\"decimal\",\"columnSigned\":true,\"columnType\":3,\"columnLength\":31,\"columnNullable\":true,\"columnScale\":6}}},{\"name\":\"s8\",\"type\":\"decimal(31,6)\",\"nullable\":true,\"metadata\":{\"columnInfo\":{\"columnPrimaryKey\":false,\"columnTypeName\":\"decimal\",\"columnSigned\":true,\"columnType\":3,\"columnLength\":31,\"columnNullable\":true,\"columnScale\":6}}},{\"name\":\"s9\",\"type\":\"decimal(31,6)\",\"nullable\":true,\"metadata\":{\"columnInfo\":{\"columnPrimaryKey\":false,\"columnTypeName\":\"decimal\",\"columnSigned\":true,\"columnType\":3,\"columnLength\":31,\"columnNullable\":true,\"columnScale\":6}}},{\"name\":\"s11\",\"type\":\"decimal(31,6)\",\"nullable\":true,\"metadata\":{\"columnInfo\":{\"columnPrimaryKey\":false,\"columnTypeName\":\"decimal\",\"columnSigned\":true,\"columnType\":3,\"columnLength\":31,\"columnNullable\":true,\"columnScale\":6}}},{\"name\":\"s12\",\"type\":\"decimal(31,6)\",\"nullable\":true,\"metadata\":{\"columnInfo\":{\"columnPrimaryKey\":false,\"columnTypeName\":\"decimal\",\"columnSigned\":true,\"columnType\":3,\"columnLength\":31,\"columnNullable\":true,\"columnScale\":6}}},{\"name\":\"s13\",\"type\":\"decimal(31,6)\",\"nullable\":true,\"metadata\":{\"columnInfo\":{\"columnPrimaryKey\":false,\"columnTypeName\":\"decimal\",\"columnSigned\":true,\"columnType\":3,\"columnLength\":31,\"columnNullable\":true,\"columnScale\":6}}},{\"name\":\"s14\",\"type\":\"decimal(31,6)\",\"nullable\":true,\"metadata\":{\"columnInfo\":{\"columnPrimaryKey\":false,\"columnTypeName\":\"decimal\",\"columnSigned\":true,\"columnType\":3,\"columnLength\":31,\"columnNullable\":true,\"columnScale\":6}}},{\"name\":\"s15\",\"type\":\"decimal(31,6)\",\"nullable\":true,\"metadata\":{\"columnInfo\":{\"columnPrimaryKey\":false,\"columnTypeName\":\"decimal\",\"columnSigned\":true,\"columnType\":3,\"columnLength\":31,\"columnNullable\":true,\"columnScale\":6}}},{\"name\":\"s17\",\"type\":\"decimal(31,6)\",\"nullable\":true,\"metadata\":{\"columnInfo\":{\"columnPrimaryKey\":false,\"columnTypeName\":\"decimal\",\"columnSigned\":true,\"columnType\":3,\"columnLength\":31,\"columnNullable\":true,\"columnScale\":6}}},{\"name\":\"s20\",\"type\":\"decimal(31,6)\",\"nullable\":true,\"metadata\":{\"columnInfo\":{\"columnPrimaryKey\":false,\"columnTypeName\":\"decimal\",\"columnSigned\":true,\"columnType\":3,\"columnLength\":31,\"columnNullable\":true,\"columnScale\":6}}},{\"name\":\"s21\",\"type\":\"decimal(31,6)\",\"nullable\":true,\"metadata\":{\"columnInfo\":{\"columnPrimaryKey\":false,\"columnTypeName\":\"decimal\",\"columnSigned\":true,\"columnType\":3,\"columnLength\":31,\"columnNullable\":true,\"columnScale\":6}}},{\"name\":\"a2\",\"type\":\"decimal(31,6)\",\"nullable\":true,\"metadata\":{\"columnInfo\":{\"columnPrimaryKey\":false,\"columnTypeName\":\"decimal\",\"columnSigned\":true,\"columnType\":3,\"columnLength\":31,\"columnNullable\":true,\"columnScale\":6}}},{\"name\":\"a3\",\"type\":\"decimal(31,6)\",\"nullable\":true,\"metadata\":{\"columnInfo\":{\"columnPrimaryKey\":false,\"columnTypeName\":\"decimal\",\"columnSigned\":true,\"columnType\":3,\"columnLength\":31,\"columnNullable\":true,\"columnScale\":6}}},{\"name\":\"a4\",\"type\":\"decimal(31,6)\",\"nullable\":true,\"metadata\":{\"columnInfo\":{\"columnPrimaryKey\":false,\"columnTypeName\":\"decimal\",\"columnSigned\":true,\"columnType\":3,\"columnLength\":31,\"columnNullable\":true,\"columnScale\":6}}},{\"name\":\"a6\",\"type\":\"decimal(31,6)\",\"nullable\":true,\"metadata\":{\"columnInfo\":{\"columnPrimaryKey\":false,\"columnTypeName\":\"decimal\",\"columnSigned\":true,\"columnType\":3,\"columnLength\":31,\"columnNullable\":true,\"columnScale\":6}}},{\"name\":\"a7\",\"type\":\"decimal(31,6)\",\"nullable\":true,\"metadata\":{\"columnInfo\":{\"columnPrimaryKey\":false,\"columnTypeName\":\"decimal\",\"columnSigned\":true,\"columnType\":3,\"columnLength\":31,\"columnNullable\":true,\"columnScale\":6}}},{\"name\":\"a8\",\"type\":\"decimal(31,6)\",\"nullable\":true,\"metadata\":{\"columnInfo\":{\"columnPrimaryKey\":false,\"columnTypeName\":\"decimal\",\"columnSigned\":true,\"columnType\":3,\"columnLength\":31,\"columnNullable\":true,\"columnScale\":6}}},{\"name\":\"a9\",\"type\":\"decimal(31,6)\",\"nullable\":true,\"metadata\":{\"columnInfo\":{\"columnPrimaryKey\":false,\"columnTypeName\":\"decimal\",\"columnSigned\":true,\"columnType\":3,\"columnLength\":31,\"columnNullable\":true,\"columnScale\":6}}},{\"name\":\"a11\",\"type\":\"decimal(31,6)\",\"nullable\":true,\"metadata\":{\"columnInfo\":{\"columnPrimaryKey\":false,\"columnTypeName\":\"decimal\",\"columnSigned\":true,\"columnType\":3,\"columnLength\":31,\"columnNullable\":true,\"columnScale\":6}}},{\"name\":\"a12\",\"type\":\"decimal(31,6)\",\"nullable\":true,\"metadata\":{\"columnInfo\":{\"columnPrimaryKey\":false,\"columnTypeName\":\"decimal\",\"columnSigned\":true,\"columnType\":3,\"columnLength\":31,\"columnNullable\":true,\"columnScale\":6}}},{\"name\":\"a13\",\"type\":\"decimal(31,6)\",\"nullable\":true,\"metadata\":{\"columnInfo\":{\"columnPrimaryKey\":false,\"columnTypeName\":\"decimal\",\"columnSigned\":true,\"columnType\":3,\"columnLength\":31,\"columnNullable\":true,\"columnScale\":6}}},{\"name\":\"a14\",\"type\":\"decimal(31,6)\",\"nullable\":true,\"metadata\":{\"columnInfo\":{\"columnPrimaryKey\":false,\"columnTypeName\":\"decimal\",\"columnSigned\":true,\"columnType\":3,\"columnLength\":31,\"columnNullable\":true,\"columnScale\":6}}},{\"name\":\"a15\",\"type\":\"decimal(31,6)\",\"nullable\":true,\"metadata\":{\"columnInfo\":{\"columnPrimaryKey\":false,\"columnTypeName\":\"decimal\",\"columnSigned\":true,\"columnType\":3,\"columnLength\":31,\"columnNullable\":true,\"columnScale\":6}}},{\"name\":\"a17\",\"type\":\"decimal(31,6)\",\"nullable\":true,\"metadata\":{\"columnInfo\":{\"columnPrimaryKey\":false,\"columnTypeName\":\"decimal\",\"columnSigned\":true,\"columnType\":3,\"columnLength\":31,\"columnNullable\":true,\"columnScale\":6}}},{\"name\":\"a20\",\"type\":\"decimal(31,6)\",\"nullable\":true,\"metadata\":{\"columnInfo\":{\"columnPrimaryKey\":false,\"columnTypeName\":\"decimal\",\"columnSigned\":true,\"columnType\":3,\"columnLength\":31,\"columnNullable\":true,\"columnScale\":6}}},{\"name\":\"a21\",\"type\":\"decimal(31,6)\",\"nullable\":true,\"metadata\":{\"columnInfo\":{\"columnPrimaryKey\":false,\"columnTypeName\":\"decimal\",\"columnSigned\":true,\"columnType\":3,\"columnLength\":31,\"columnNullable\":true,\"columnScale\":6}}},{\"name\":\"sd2\",\"type\":\"decimal(31,6)\",\"nullable\":true,\"metadata\":{\"columnInfo\":{\"columnPrimaryKey\":false,\"columnTypeName\":\"decimal\",\"columnSigned\":true,\"columnType\":3,\"columnLength\":31,\"columnNullable\":true,\"columnScale\":6}}},{\"name\":\"sd3\",\"type\":\"decimal(31,6)\",\"nullable\":true,\"metadata\":{\"columnInfo\":{\"columnPrimaryKey\":false,\"columnTypeName\":\"decimal\",\"columnSigned\":true,\"columnType\":3,\"columnLength\":31,\"columnNullable\":true,\"columnScale\":6}}},{\"name\":\"sd4\",\"type\":\"decimal(31,6)\",\"nullable\":true,\"metadata\":{\"columnInfo\":{\"columnPrimaryKey\":false,\"columnTypeName\":\"decimal\",\"columnSigned\":true,\"columnType\":3,\"columnLength\":31,\"columnNullable\":true,\"columnScale\":6}}},{\"name\":\"sd6\",\"type\":\"decimal(31,6)\",\"nullable\":true,\"metadata\":{\"columnInfo\":{\"columnPrimaryKey\":false,\"columnTypeName\":\"decimal\",\"columnSigned\":true,\"columnType\":3,\"columnLength\":31,\"columnNullable\":true,\"columnScale\":6}}},{\"name\":\"sd7\",\"type\":\"decimal(31,6)\",\"nullable\":true,\"metadata\":{\"columnInfo\":{\"columnPrimaryKey\":false,\"columnTypeName\":\"decimal\",\"columnSigned\":true,\"columnType\":3,\"columnLength\":31,\"columnNullable\":true,\"columnScale\":6}}},{\"name\":\"sd8\",\"type\":\"decimal(31,6)\",\"nullable\":true,\"metadata\":{\"columnInfo\":{\"columnPrimaryKey\":false,\"columnTypeName\":\"decimal\",\"columnSigned\":true,\"columnType\":3,\"columnLength\":31,\"columnNullable\":true,\"columnScale\":6}}},{\"name\":\"sd9\",\"type\":\"decimal(31,6)\",\"nullable\":true,\"metadata\":{\"columnInfo\":{\"columnPrimaryKey\":false,\"columnTypeName\":\"decimal\",\"columnSigned\":true,\"columnType\":3,\"columnLength\":31,\"columnNullable\":true,\"columnScale\":6}}},{\"name\":\"sd11\",\"type\":\"decimal(31,6)\",\"nullable\":true,\"metadata\":{\"columnInfo\":{\"columnPrimaryKey\":false,\"columnTypeName\":\"decimal\",\"columnSigned\":true,\"columnType\":3,\"columnLength\":31,\"columnNullable\":true,\"columnScale\":6}}},{\"name\":\"sd12\",\"type\":\"decimal(31,6)\",\"nullable\":true,\"metadata\":{\"columnInfo\":{\"columnPrimaryKey\":false,\"columnTypeName\":\"decimal\",\"columnSigned\":true,\"columnType\":3,\"columnLength\":31,\"columnNullable\":true,\"columnScale\":6}}},{\"name\":\"sd13\",\"type\":\"decimal(31,6)\",\"nullable\":true,\"metadata\":{\"columnInfo\":{\"columnPrimaryKey\":false,\"columnTypeName\":\"decimal\",\"columnSigned\":true,\"columnType\":3,\"columnLength\":31,\"columnNullable\":true,\"columnScale\":6}}},{\"name\":\"sd14\",\"type\":\"decimal(31,6)\",\"nullable\":true,\"metadata\":{\"columnInfo\":{\"columnPrimaryKey\":false,\"columnTypeName\":\"decimal\",\"columnSigned\":true,\"columnType\":3,\"columnLength\":31,\"columnNullable\":true,\"columnScale\":6}}},{\"name\":\"sd15\",\"type\":\"decimal(31,6)\",\"nullable\":true,\"metadata\":{\"columnInfo\":{\"columnPrimaryKey\":false,\"columnTypeName\":\"decimal\",\"columnSigned\":true,\"columnType\":3,\"columnLength\":31,\"columnNullable\":true,\"columnScale\":6}}},{\"name\":\"sd17\",\"type\":\"decimal(31,6)\",\"nullable\":true,\"metadata\":{\"columnInfo\":{\"columnPrimaryKey\":false,\"columnTypeName\":\"decimal\",\"columnSigned\":true,\"columnType\":3,\"columnLength\":31,\"columnNullable\":true,\"columnScale\":6}}},{\"name\":\"sd20\",\"type\":\"decimal(31,6)\",\"nullable\":true,\"metadata\":{\"columnInfo\":{\"columnPrimaryKey\":false,\"columnTypeName\":\"decimal\",\"columnSigned\":true,\"columnType\":3,\"columnLength\":31,\"columnNullable\":true,\"columnScale\":6}}},{\"name\":\"sd21\",\"type\":\"decimal(31,6)\",\"nullable\":true,\"metadata\":{\"columnInfo\":{\"columnPrimaryKey\":false,\"columnTypeName\":\"decimal\",\"columnSigned\":true,\"columnType\":3,\"columnLength\":31,\"columnNullable\":true,\"columnScale\":6}}},{\"name\":\"RUL\",\"type\":\"integer\",\"nullable\":true,\"metadata\":{\"columnInfo\":{\"columnPrimaryKey\":false,\"columnTypeName\":\"integer\",\"columnSigned\":true,\"columnType\":4,\"columnLength\":-1,\"columnNullable\":true,\"columnScale\":0}}},{\"name\":\"label1\",\"type\":\"integer\",\"nullable\":true,\"metadata\":{\"columnInfo\":{\"columnPrimaryKey\":false,\"columnTypeName\":\"integer\",\"columnSigned\":true,\"columnType\":4,\"columnLength\":-1,\"columnNullable\":true,\"columnScale\":0}}}]}}},{\"metadata\":{\"guid\":\"ea10896e-1aaf-42ff-962c-4b61053e22b0\",\"url\":\"https://ibm-watson-ml.mybluemix.net/v3/wml_instances/366f855c-745d-4820-9b10-975dac91d5f7/published_models/ea10896e-1aaf-42ff-962c-4b61053e22b0\",\"created_at\":\"2018-04-06T20:15:22.146Z\",\"modified_at\":\"2018-04-06T20:16:04.324Z\"},\"entity\":{\"runtime_environment\":\"spark-2.0\",\"learning_configuration_url\":\"https://ibm-watson-ml.mybluemix.net/v3/wml_instances/366f855c-745d-4820-9b10-975dac91d5f7/published_models/ea10896e-1aaf-42ff-962c-4b61053e22b0/learning_configuration\",\"author\":{},\"name\":\"Product Line Prediction\",\"label_col\":\"PRODUCT_LINE\",\"learning_iterations_url\":\"https://ibm-watson-ml.mybluemix.net/v3/wml_instances/366f855c-745d-4820-9b10-975dac91d5f7/published_models/ea10896e-1aaf-42ff-962c-4b61053e22b0/learning_iterations\",\"training_data_schema\":{\"type\":\"struct\",\"fields\":[{\"name\":\"PRODUCT_LINE\",\"type\":\"string\",\"nullable\":true,\"metadata\":{\"columnInfo\":{\"columnPrimaryKey\":false,\"columnTypeName\":\"varchar\",\"columnSigned\":true,\"columnType\":12,\"columnLength\":1024,\"columnNullable\":true,\"columnScale\":0}}},{\"name\":\"GENDER\",\"type\":\"string\",\"nullable\":true,\"metadata\":{\"columnInfo\":{\"columnPrimaryKey\":false,\"columnTypeName\":\"varchar\",\"columnSigned\":true,\"columnType\":12,\"columnLength\":1024,\"columnNullable\":true,\"columnScale\":0}}},{\"name\":\"AGE\",\"type\":\"integer\",\"nullable\":true,\"metadata\":{\"columnInfo\":{\"columnPrimaryKey\":false,\"columnTypeName\":\"integer\",\"columnSigned\":true,\"columnType\":4,\"columnLength\":-1,\"columnNullable\":true,\"columnScale\":0}}},{\"name\":\"MARITAL_STATUS\",\"type\":\"string\",\"nullable\":true,\"metadata\":{\"columnInfo\":{\"columnPrimaryKey\":false,\"columnTypeName\":\"varchar\",\"columnSigned\":true,\"columnType\":12,\"columnLength\":1024,\"columnNullable\":true,\"columnScale\":0}}},{\"name\":\"PROFESSION\",\"type\":\"string\",\"nullable\":true,\"metadata\":{\"columnInfo\":{\"columnPrimaryKey\":false,\"columnTypeName\":\"varchar\",\"columnSigned\":true,\"columnType\":12,\"columnLength\":1024,\"columnNullable\":true,\"columnScale\":0}}},{\"name\":\"GENDER_index\",\"type\":\"decimal(31,6)\",\"nullable\":true,\"metadata\":{\"columnInfo\":{\"columnPrimaryKey\":false,\"columnTypeName\":\"decimal\",\"columnSigned\":true,\"columnType\":3,\"columnLength\":31,\"columnNullable\":true,\"columnScale\":6}}},{\"name\":\"PRODUCT_LINE_index\",\"type\":\"decimal(31,6)\",\"nullable\":true,\"metadata\":{\"columnInfo\":{\"columnPrimaryKey\":false,\"columnTypeName\":\"decimal\",\"columnSigned\":true,\"columnType\":3,\"columnLength\":31,\"columnNullable\":true,\"columnScale\":6}}},{\"name\":\"MARITAL_STATUS_index\",\"type\":\"decimal(31,6)\",\"nullable\":true,\"metadata\":{\"columnInfo\":{\"columnPrimaryKey\":false,\"columnTypeName\":\"decimal\",\"columnSigned\":true,\"columnType\":3,\"columnLength\":31,\"columnNullable\":true,\"columnScale\":6}}},{\"name\":\"PROFESSION_index\",\"type\":\"decimal(31,6)\",\"nullable\":true,\"metadata\":{\"columnInfo\":{\"columnPrimaryKey\":false,\"columnTypeName\":\"decimal\",\"columnSigned\":true,\"columnType\":3,\"columnLength\":31,\"columnNullable\":true,\"columnScale\":6}}},{\"name\":\"AGE_index\",\"type\":\"decimal(31,6)\",\"nullable\":true,\"metadata\":{\"columnInfo\":{\"columnPrimaryKey\":false,\"columnTypeName\":\"decimal\",\"columnSigned\":true,\"columnType\":3,\"columnLength\":31,\"columnNullable\":true,\"columnScale\":6}}}]},\"feedback_url\":\"https://ibm-watson-ml.mybluemix.net/v3/wml_instances/366f855c-745d-4820-9b10-975dac91d5f7/published_models/ea10896e-1aaf-42ff-962c-4b61053e22b0/feedback\",\"latest_version\":{\"url\":\"https://ibm-watson-ml.mybluemix.net/v3/ml_assets/models/ea10896e-1aaf-42ff-962c-4b61053e22b0/versions/f248194e-ef2e-4b58-9200-ef651c9883b1\",\"guid\":\"f248194e-ef2e-4b58-9200-ef651c9883b1\",\"created_at\":\"2018-04-06T20:15:22.240Z\"},\"model_type\":\"wml-1.1\",\"deployments\":{\"count\":1,\"url\":\"https://ibm-watson-ml.mybluemix.net/v3/wml_instances/366f855c-745d-4820-9b10-975dac91d5f7/published_models/ea10896e-1aaf-42ff-962c-4b61053e22b0/deployments\"},\"deployed_version\":{\"url\":\"https://ibm-watson-ml.mybluemix.net/v3/ml_assets/models/ea10896e-1aaf-42ff-962c-4b61053e22b0/versions/f248194e-ef2e-4b58-9200-ef651c9883b1\",\"guid\":\"f248194e-ef2e-4b58-9200-ef651c9883b1\"},\"evaluation_metrics_url\":\"https://ibm-watson-ml.mybluemix.net/v3/wml_instances/366f855c-745d-4820-9b10-975dac91d5f7/published_models/ea10896e-1aaf-42ff-962c-4b61053e22b0/evaluation_metrics\",\"input_data_schema\":{\"type\":\"struct\",\"fields\":[{\"name\":\"GENDER\",\"type\":\"string\",\"nullable\":true,\"metadata\":{\"columnInfo\":{\"columnPrimaryKey\":false,\"columnTypeName\":\"varchar\",\"columnSigned\":true,\"columnType\":12,\"columnLength\":1024,\"columnNullable\":true,\"columnScale\":0}}},{\"name\":\"AGE\",\"type\":\"integer\",\"nullable\":true,\"metadata\":{\"columnInfo\":{\"columnPrimaryKey\":false,\"columnTypeName\":\"integer\",\"columnSigned\":true,\"columnType\":4,\"columnLength\":-1,\"columnNullable\":true,\"columnScale\":0}}},{\"name\":\"MARITAL_STATUS\",\"type\":\"string\",\"nullable\":true,\"metadata\":{\"columnInfo\":{\"columnPrimaryKey\":false,\"columnTypeName\":\"varchar\",\"columnSigned\":true,\"columnType\":12,\"columnLength\":1024,\"columnNullable\":true,\"columnScale\":0}}},{\"name\":\"PROFESSION\",\"type\":\"string\",\"nullable\":true,\"metadata\":{\"columnInfo\":{\"columnPrimaryKey\":false,\"columnTypeName\":\"varchar\",\"columnSigned\":true,\"columnType\":12,\"columnLength\":1024,\"columnNullable\":true,\"columnScale\":0}}},{\"name\":\"GENDER_index\",\"type\":\"decimal(31,6)\",\"nullable\":true,\"metadata\":{\"columnInfo\":{\"columnPrimaryKey\":false,\"columnTypeName\":\"decimal\",\"columnSigned\":true,\"columnType\":3,\"columnLength\":31,\"columnNullable\":true,\"columnScale\":6}}},{\"name\":\"PRODUCT_LINE_index\",\"type\":\"decimal(31,6)\",\"nullable\":true,\"metadata\":{\"columnInfo\":{\"columnPrimaryKey\":false,\"columnTypeName\":\"decimal\",\"columnSigned\":true,\"columnType\":3,\"columnLength\":31,\"columnNullable\":true,\"columnScale\":6}}},{\"name\":\"MARITAL_STATUS_index\",\"type\":\"decimal(31,6)\",\"nullable\":true,\"metadata\":{\"columnInfo\":{\"columnPrimaryKey\":false,\"columnTypeName\":\"decimal\",\"columnSigned\":true,\"columnType\":3,\"columnLength\":31,\"columnNullable\":true,\"columnScale\":6}}},{\"name\":\"PROFESSION_index\",\"type\":\"decimal(31,6)\",\"nullable\":true,\"metadata\":{\"columnInfo\":{\"columnPrimaryKey\":false,\"columnTypeName\":\"decimal\",\"columnSigned\":true,\"columnType\":3,\"columnLength\":31,\"columnNullable\":true,\"columnScale\":6}}},{\"name\":\"AGE_index\",\"type\":\"decimal(31,6)\",\"nullable\":true,\"metadata\":{\"columnInfo\":{\"columnPrimaryKey\":false,\"columnTypeName\":\"decimal\",\"columnSigned\":true,\"columnType\":3,\"columnLength\":31,\"columnNullable\":true,\"columnScale\":6}}}]}}},{\"metadata\":{\"guid\":\"8a0efc52-3bea-49f8-91d2-8819fa9723c6\",\"url\":\"https://ibm-watson-ml.mybluemix.net/v3/wml_instances/366f855c-745d-4820-9b10-975dac91d5f7/published_models/8a0efc52-3bea-49f8-91d2-8819fa9723c6\",\"created_at\":\"2018-04-06T20:38:39.074Z\",\"modified_at\":\"2018-04-06T20:38:39.152Z\"},\"entity\":{\"runtime_environment\":\"spark-2.0\",\"learning_configuration_url\":\"https://ibm-watson-ml.mybluemix.net/v3/wml_instances/366f855c-745d-4820-9b10-975dac91d5f7/published_models/8a0efc52-3bea-49f8-91d2-8819fa9723c6/learning_configuration\",\"author\":{},\"name\":\"Product Line Prediction PySpark\",\"label_col\":\"PRODUCT_LINE\",\"learning_iterations_url\":\"https://ibm-watson-ml.mybluemix.net/v3/wml_instances/366f855c-745d-4820-9b10-975dac91d5f7/published_models/8a0efc52-3bea-49f8-91d2-8819fa9723c6/learning_iterations\",\"training_data_schema\":{\"fields\":[{\"metadata\":{},\"type\":\"string\",\"name\":\"PRODUCT_LINE\",\"nullable\":true},{\"metadata\":{},\"type\":\"string\",\"name\":\"GENDER\",\"nullable\":true},{\"metadata\":{},\"type\":\"integer\",\"name\":\"AGE\",\"nullable\":true},{\"metadata\":{},\"type\":\"string\",\"name\":\"MARITAL_STATUS\",\"nullable\":true},{\"metadata\":{},\"type\":\"string\",\"name\":\"PROFESSION\",\"nullable\":true}],\"type\":\"struct\"},\"feedback_url\":\"https://ibm-watson-ml.mybluemix.net/v3/wml_instances/366f855c-745d-4820-9b10-975dac91d5f7/published_models/8a0efc52-3bea-49f8-91d2-8819fa9723c6/feedback\",\"latest_version\":{\"url\":\"https://ibm-watson-ml.mybluemix.net/v3/ml_assets/models/8a0efc52-3bea-49f8-91d2-8819fa9723c6/versions/da67769e-ad08-4906-a3a2-74525142ae94\",\"guid\":\"da67769e-ad08-4906-a3a2-74525142ae94\",\"created_at\":\"2018-04-06T20:38:39.152Z\"},\"model_type\":\"mllib-2.0\",\"deployments\":{\"count\":0,\"url\":\"https://ibm-watson-ml.mybluemix.net/v3/wml_instances/366f855c-745d-4820-9b10-975dac91d5f7/published_models/8a0efc52-3bea-49f8-91d2-8819fa9723c6/deployments\"},\"evaluation_metrics_url\":\"https://ibm-watson-ml.mybluemix.net/v3/wml_instances/366f855c-745d-4820-9b10-975dac91d5f7/published_models/8a0efc52-3bea-49f8-91d2-8819fa9723c6/evaluation_metrics\",\"input_data_schema\":{\"fields\":[{\"metadata\":{},\"type\":\"string\",\"name\":\"GENDER\",\"nullable\":true},{\"metadata\":{},\"type\":\"integer\",\"name\":\"AGE\",\"nullable\":true},{\"metadata\":{},\"type\":\"string\",\"name\":\"MARITAL_STATUS\",\"nullable\":true},{\"metadata\":{},\"type\":\"string\",\"name\":\"PROFESSION\",\"nullable\":true}],\"type\":\"struct\"}}}],\"first\":{\"url\":\"https://deployment/v3/wml_instances/366f855c-745d-4820-9b10-975dac91d5f7/published_models?limit=1000\"}}\n"
                }
            ], 
            "source": "header = {'Content-Type': 'application/json', 'Authorization': 'Bearer ' + mltoken}\n\nresponse_get = requests.get(endpoint_published_models, headers=header)\n\nprint response_get\nprint response_get.text"
        }, 
        {
            "source": "#### Get published model deployment url", 
            "cell_type": "markdown", 
            "metadata": {}
        }, 
        {
            "execution_count": 85, 
            "cell_type": "code", 
            "metadata": {}, 
            "outputs": [
                {
                    "output_type": "stream", 
                    "name": "stdout", 
                    "text": "https://ibm-watson-ml.mybluemix.net/v3/wml_instances/366f855c-745d-4820-9b10-975dac91d5f7/published_models/8a0efc52-3bea-49f8-91d2-8819fa9723c6/deployments\n"
                }
            ], 
            "source": "[endpoint_deployments] = [x.get('entity').get('deployments').get('url') for x in json.loads(response_get.text).get('resources') if x.get('metadata').get('guid') == saved_model.uid]\n\nprint endpoint_deployments"
        }, 
        {
            "source": "#### Create online deployment for published model", 
            "cell_type": "markdown", 
            "metadata": {}
        }, 
        {
            "execution_count": 86, 
            "cell_type": "code", 
            "metadata": {}, 
            "outputs": [
                {
                    "output_type": "stream", 
                    "name": "stdout", 
                    "text": "<Response [201]>\n{\"metadata\":{\"guid\":\"f36d5482-f826-4e9f-864d-41618989a61d\",\"url\":\"https://ibm-watson-ml.mybluemix.net/v3/wml_instances/366f855c-745d-4820-9b10-975dac91d5f7/published_models/8a0efc52-3bea-49f8-91d2-8819fa9723c6/deployments/f36d5482-f826-4e9f-864d-41618989a61d\",\"created_at\":\"2018-04-06T20:43:45.141Z\",\"modified_at\":\"2018-04-06T20:43:48.714Z\"},\"entity\":{\"runtime_environment\":\"spark-2.0\",\"name\":\"Product Line Prediction PySparkDeploy\",\"scoring_url\":\"https://ibm-watson-ml.mybluemix.net/v3/wml_instances/366f855c-745d-4820-9b10-975dac91d5f7/published_models/8a0efc52-3bea-49f8-91d2-8819fa9723c6/deployments/f36d5482-f826-4e9f-864d-41618989a61d/online\",\"description\":\"My Cool Deployment\",\"published_model\":{\"author\":{},\"name\":\"Product Line Prediction PySpark\",\"url\":\"https://ibm-watson-ml.mybluemix.net/v3/wml_instances/366f855c-745d-4820-9b10-975dac91d5f7/published_models/8a0efc52-3bea-49f8-91d2-8819fa9723c6\",\"guid\":\"8a0efc52-3bea-49f8-91d2-8819fa9723c6\",\"created_at\":\"2018-04-06T20:43:45.096Z\"},\"status_details\":{\"status\":\"DEPLOY_SUCCESS\"},\"model_type\":\"mllib-2.0\",\"status\":\"DEPLOY_SUCCESS\",\"type\":\"online\",\"deployed_version\":{\"url\":\"https://ibm-watson-ml.mybluemix.net/v3/ml_assets/models/8a0efc52-3bea-49f8-91d2-8819fa9723c6/versions/da67769e-ad08-4906-a3a2-74525142ae94\",\"guid\":\"da67769e-ad08-4906-a3a2-74525142ae94\"}}}\n"
                }
            ], 
            "source": "payload_online = {\"name\": \"Product Line Prediction PySparkDeploy\", \"description\": \"My Cool Deployment\", \"type\": \"online\"}\nresponse_online = requests.post(endpoint_deployments, json=payload_online, headers=header)\n\nprint response_online\nprint response_online.text"
        }, 
        {
            "execution_count": 87, 
            "cell_type": "code", 
            "metadata": {}, 
            "outputs": [
                {
                    "output_type": "stream", 
                    "name": "stdout", 
                    "text": "https://ibm-watson-ml.mybluemix.net/v3/wml_instances/366f855c-745d-4820-9b10-975dac91d5f7/published_models/8a0efc52-3bea-49f8-91d2-8819fa9723c6/deployments/f36d5482-f826-4e9f-864d-41618989a61d/online\n"
                }
            ], 
            "source": "scoring_url = json.loads(response_online.text).get('entity').get('scoring_url')\nprint scoring_url"
        }, 
        {
            "source": "Now, you can send (POST) new scoring records (new data) for which you would like to get predictions. To do that, execute the following sample code: ", 
            "cell_type": "markdown", 
            "metadata": {}
        }, 
        {
            "execution_count": 88, 
            "cell_type": "code", 
            "metadata": {}, 
            "outputs": [
                {
                    "output_type": "stream", 
                    "name": "stdout", 
                    "text": "{\n  \"fields\": [\"GENDER\", \"AGE\", \"MARITAL_STATUS\", \"PROFESSION\", \"PRODUCT_LINE\", \"label\", \"PROFESSION_IX\", \"GENDER_IX\", \"MARITAL_STATUS_IX\", \"features\", \"rawPrediction\", \"probability\", \"prediction\", \"predictedLabel\"],\n  \"values\": [[\"M\", 23, \"Single\", \"Student\", \"Camping Equipment\", 0.0, 6.0, 0.0, 1.0, [0.0, 23.0, 1.0, 6.0], [5.600716147152702, 6.482458372136143, 6.048004170730676, 0.20929155492307386, 1.6595297550574055], [0.2800358073576351, 0.32412291860680714, 0.3024002085365338, 0.010464577746153694, 0.08297648775287028], 1.0, \"Personal Accessories\"], [\"M\", 55, \"Single\", \"Executive\", \"Camping Equipment\", 0.0, 3.0, 0.0, 1.0, [0.0, 55.0, 1.0, 3.0], [6.227653744886563, 4.325198862164969, 8.031953760146816, 1.2319759269281225, 0.1832177058735289], [0.3113826872443282, 0.2162599431082485, 0.40159768800734086, 0.06159879634640614, 0.009160885293676447], 2.0, \"Mountaineering Equipment\"]]\n}\n"
                }
            ], 
            "source": "payload_scoring = {\"fields\": [\"GENDER\",\"AGE\",\"MARITAL_STATUS\",\"PROFESSION\"],\"values\": [[\"M\",23,\"Single\",\"Student\"],[\"M\",55,\"Single\",\"Executive\"]]}\nresponse_scoring = requests.post(scoring_url, json=payload_scoring, headers=header)\n\nprint response_scoring.text"
        }, 
        {
            "source": "As we can see we predict that a 23-year-old male student is interested in personal accessories (predictedLabel: Personal Accessories, prediction: 1.0). We can also see that single, 55 years old man is interested in mountaineering equipment.", 
            "cell_type": "markdown", 
            "metadata": {}
        }, 
        {
            "source": "<a id=\"summary\"></a>\n## 7. Summary and next steps     ", 
            "cell_type": "markdown", 
            "metadata": {
                "collapsed": true
            }
        }, 
        {
            "source": " You successfully completed this notebook! You learned how to use Apache Spark machine learning as well as Watson Machine Learning for model creation and deployment. Check out our _[Online Documentation](https://console.ng.bluemix.net/docs/services/PredictiveModeling/pm_service_api_spark.html)_ for more samples, tutorials, documentation, how-tos, and blog posts. ", 
            "cell_type": "markdown", 
            "metadata": {
                "collapsed": true
            }
        }, 
        {
            "source": "### Authors\n\n**Lukasz Cmielowski**, PhD, is a Automation Architect and Data Scientist in IBM with a track record of developing enterprise-level applications that substantially increases clients' ability to turn data into actionable knowledge.", 
            "cell_type": "markdown", 
            "metadata": {}
        }, 
        {
            "source": "Copyright \u00a9 2017 IBM. This notebook and its source code are released under the terms of the MIT License.", 
            "cell_type": "markdown", 
            "metadata": {}
        }
    ], 
    "metadata": {
        "kernelspec": {
            "display_name": "Python 2 with Spark 2.0 (Deprecated)", 
            "name": "python2-spark20", 
            "language": "python"
        }, 
        "language_info": {
            "mimetype": "text/x-python", 
            "nbconvert_exporter": "python", 
            "version": "2.7.11", 
            "name": "python", 
            "file_extension": ".py", 
            "pygments_lexer": "ipython2", 
            "codemirror_mode": {
                "version": 2, 
                "name": "ipython"
            }
        }
    }, 
    "nbformat": 4
}